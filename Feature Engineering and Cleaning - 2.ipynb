{
 "cells": [
  {
   "cell_type": "code",
   "execution_count": 1,
   "metadata": {
    "ExecuteTime": {
     "end_time": "2020-06-29T23:10:21.704124Z",
     "start_time": "2020-06-29T23:10:20.047303Z"
    }
   },
   "outputs": [],
   "source": [
    "import pandas as pd\n",
    "import numpy as np\n",
    "import matplotlib.pyplot as plt\n",
    "from textblob import TextBlob\n",
    "%matplotlib inline\n",
    "import seaborn as sns\n",
    "import re"
   ]
  },
  {
   "cell_type": "code",
   "execution_count": null,
   "metadata": {},
   "outputs": [],
   "source": [
    "import os\n",
    "os.chdir('/Lending/Data')"
   ]
  },
  {
   "cell_type": "code",
   "execution_count": 2,
   "metadata": {
    "ExecuteTime": {
     "end_time": "2020-06-29T23:10:21.740947Z",
     "start_time": "2020-06-29T23:10:21.709548Z"
    }
   },
   "outputs": [],
   "source": [
    "import Module.Loan_Modules"
   ]
  },
  {
   "cell_type": "markdown",
   "metadata": {},
   "source": [
    "# Loan data"
   ]
  },
  {
   "cell_type": "code",
   "execution_count": 5,
   "metadata": {
    "ExecuteTime": {
     "end_time": "2020-06-29T23:10:48.454773Z",
     "start_time": "2020-06-29T23:10:21.775115Z"
    }
   },
   "outputs": [
    {
     "name": "stderr",
     "output_type": "stream",
     "text": [
      "/home/yingjie/anaconda3/lib/python3.6/site-packages/IPython/core/interactiveshell.py:3051: DtypeWarning: Columns (20,25,30,48) have mixed types. Specify dtype option on import or set low_memory=False.\n",
      "  interactivity=interactivity, compiler=compiler, result=result)\n"
     ]
    }
   ],
   "source": [
    "# 2020\n",
    "loan_data_2020 = pd.read_csv('loan_2020.csv')\n",
    "# 2019\n",
    "loan_data_2019 = pd.read_csv('loan_historical.csv')"
   ]
  },
  {
   "cell_type": "markdown",
   "metadata": {},
   "source": [
    "# Additional dataset"
   ]
  },
  {
   "cell_type": "code",
   "execution_count": 6,
   "metadata": {
    "ExecuteTime": {
     "end_time": "2020-06-29T23:10:48.516834Z",
     "start_time": "2020-06-29T23:10:48.456119Z"
    }
   },
   "outputs": [],
   "source": [
    "zip_income = pd.read_csv('Zip_Income.csv')"
   ]
  },
  {
   "cell_type": "code",
   "execution_count": 7,
   "metadata": {
    "ExecuteTime": {
     "end_time": "2020-06-29T23:10:48.527580Z",
     "start_time": "2020-06-29T23:10:48.518780Z"
    }
   },
   "outputs": [],
   "source": [
    "state_unemployment = pd.read_csv('State_Unemployment.csv')"
   ]
  },
  {
   "cell_type": "code",
   "execution_count": 8,
   "metadata": {
    "ExecuteTime": {
     "end_time": "2020-06-29T23:10:48.542066Z",
     "start_time": "2020-06-29T23:10:48.532558Z"
    }
   },
   "outputs": [],
   "source": [
    "mortgage_rate_monthly = pd.read_csv('mortgage_rate.csv')"
   ]
  },
  {
   "cell_type": "markdown",
   "metadata": {},
   "source": [
    "# Check data info \n",
    "20 objects, 88 numeric"
   ]
  },
  {
   "cell_type": "code",
   "execution_count": 9,
   "metadata": {
    "ExecuteTime": {
     "end_time": "2020-06-29T23:10:48.567754Z",
     "start_time": "2020-06-29T23:10:48.546285Z"
    },
    "scrolled": true
   },
   "outputs": [
    {
     "name": "stdout",
     "output_type": "stream",
     "text": [
      "<class 'pandas.core.frame.DataFrame'>\n",
      "RangeIndex: 1891367 entries, 0 to 1891366\n",
      "Columns: 108 entries, totcollamt to loanstatus\n",
      "dtypes: float64(87), object(21)\n",
      "memory usage: 1.5+ GB\n"
     ]
    }
   ],
   "source": [
    "loan_data_2019.info()"
   ]
  },
  {
   "cell_type": "code",
   "execution_count": 10,
   "metadata": {
    "ExecuteTime": {
     "end_time": "2020-06-29T23:10:48.594892Z",
     "start_time": "2020-06-29T23:10:48.569789Z"
    }
   },
   "outputs": [
    {
     "name": "stdout",
     "output_type": "stream",
     "text": [
      "<class 'pandas.core.frame.DataFrame'>\n",
      "RangeIndex: 33 entries, 0 to 32\n",
      "Columns: 106 entries, emplength to secapprevolutil\n",
      "dtypes: float64(30), int64(63), object(13)\n",
      "memory usage: 27.4+ KB\n"
     ]
    }
   ],
   "source": [
    "loan_data_2020.info()"
   ]
  },
  {
   "cell_type": "code",
   "execution_count": 11,
   "metadata": {
    "ExecuteTime": {
     "end_time": "2020-06-29T23:10:48.606981Z",
     "start_time": "2020-06-29T23:10:48.597277Z"
    }
   },
   "outputs": [
    {
     "data": {
      "text/plain": [
       "Index(['totcollamt', 'totalrevhilim', 'emplength', 'zipcode', 'numiltl',\n",
       "       'collections12mthsexmed', 'memberid', 'numbctl', 'mortacc', 'openrv12m',\n",
       "       ...\n",
       "       'openacc', 'openil24m', 'percentbcgt75', 'maxbalbc', 'grade',\n",
       "       'secappcollections12mthsexmed', 'pubrecbankruptcies', 'ficorangelow',\n",
       "       'issued', 'loanstatus'],\n",
       "      dtype='object', length=108)"
      ]
     },
     "execution_count": 11,
     "metadata": {},
     "output_type": "execute_result"
    }
   ],
   "source": [
    "loan_data_2019.columns"
   ]
  },
  {
   "cell_type": "code",
   "execution_count": 12,
   "metadata": {
    "ExecuteTime": {
     "end_time": "2020-06-29T23:10:48.615056Z",
     "start_time": "2020-06-29T23:10:48.609218Z"
    }
   },
   "outputs": [
    {
     "data": {
      "text/plain": [
       "Index(['emplength', 'openil24m', 'percentbcgt75', 'homeownership', 'memberid',\n",
       "       'mthssincelastrecord', 'secappchargeoffwithin12mths', 'bcopentobuy',\n",
       "       'numoprevtl', 'zipcode',\n",
       "       ...\n",
       "       'secappopenacc', 'mosinoldrevtlop', 'openacc6m', 'numactvbctl', 'id',\n",
       "       'secappmortacc', 'openrv24m', 'annualincjoint', 'mosinrcnttl',\n",
       "       'secapprevolutil'],\n",
       "      dtype='object', length=106)"
      ]
     },
     "execution_count": 12,
     "metadata": {},
     "output_type": "execute_result"
    }
   ],
   "source": [
    "loan_data_2020.columns"
   ]
  },
  {
   "cell_type": "code",
   "execution_count": 13,
   "metadata": {
    "ExecuteTime": {
     "end_time": "2020-06-29T23:10:48.625104Z",
     "start_time": "2020-06-29T23:10:48.617506Z"
    }
   },
   "outputs": [],
   "source": [
    "loan_data_2019['trainflag'] = 1\n",
    "loan_data_2020['trainflag'] = 0"
   ]
  },
  {
   "cell_type": "code",
   "execution_count": 14,
   "metadata": {
    "ExecuteTime": {
     "end_time": "2020-06-29T23:10:50.705796Z",
     "start_time": "2020-06-29T23:10:48.627271Z"
    },
    "scrolled": true
   },
   "outputs": [
    {
     "name": "stderr",
     "output_type": "stream",
     "text": [
      "/home/yingjie/anaconda3/lib/python3.6/site-packages/ipykernel_launcher.py:1: FutureWarning: Sorting because non-concatenation axis is not aligned. A future version\n",
      "of pandas will change to not sort by default.\n",
      "\n",
      "To accept the future behavior, pass 'sort=False'.\n",
      "\n",
      "To retain the current behavior and silence the warning, pass 'sort=True'.\n",
      "\n",
      "  \"\"\"Entry point for launching an IPython kernel.\n"
     ]
    }
   ],
   "source": [
    "loan_data = pd.concat([loan_data_2019, loan_data_2020], axis=0)"
   ]
  },
  {
   "cell_type": "markdown",
   "metadata": {},
   "source": [
    "# Merge loan data and additional data set"
   ]
  },
  {
   "cell_type": "code",
   "execution_count": 15,
   "metadata": {
    "ExecuteTime": {
     "end_time": "2020-06-29T23:10:50.752186Z",
     "start_time": "2020-06-29T23:10:50.707651Z"
    },
    "scrolled": true
   },
   "outputs": [],
   "source": [
    "zip_income.loc[:, 'Zip'] = zip_income['Zip'].apply(lambda x: str(x)[:3])"
   ]
  },
  {
   "cell_type": "code",
   "execution_count": 16,
   "metadata": {
    "ExecuteTime": {
     "end_time": "2020-06-29T23:10:50.775907Z",
     "start_time": "2020-06-29T23:10:50.754398Z"
    }
   },
   "outputs": [
    {
     "data": {
      "text/html": [
       "<div>\n",
       "<style scoped>\n",
       "    .dataframe tbody tr th:only-of-type {\n",
       "        vertical-align: middle;\n",
       "    }\n",
       "\n",
       "    .dataframe tbody tr th {\n",
       "        vertical-align: top;\n",
       "    }\n",
       "\n",
       "    .dataframe thead th {\n",
       "        text-align: right;\n",
       "    }\n",
       "</style>\n",
       "<table border=\"1\" class=\"dataframe\">\n",
       "  <thead>\n",
       "    <tr style=\"text-align: right;\">\n",
       "      <th></th>\n",
       "      <th>Zip</th>\n",
       "      <th>Zip_Median</th>\n",
       "      <th>Zip_Mean</th>\n",
       "      <th>Zip_Pop</th>\n",
       "    </tr>\n",
       "  </thead>\n",
       "  <tbody>\n",
       "    <tr>\n",
       "      <th>0</th>\n",
       "      <td>100</td>\n",
       "      <td>56,663</td>\n",
       "      <td>66,688</td>\n",
       "      <td>16,445</td>\n",
       "    </tr>\n",
       "    <tr>\n",
       "      <th>1</th>\n",
       "      <td>100</td>\n",
       "      <td>49,853</td>\n",
       "      <td>75,063</td>\n",
       "      <td>28,069</td>\n",
       "    </tr>\n",
       "    <tr>\n",
       "      <th>2</th>\n",
       "      <td>100</td>\n",
       "      <td>28,462</td>\n",
       "      <td>35,121</td>\n",
       "      <td>8,491</td>\n",
       "    </tr>\n",
       "    <tr>\n",
       "      <th>3</th>\n",
       "      <td>100</td>\n",
       "      <td>75,423</td>\n",
       "      <td>82,442</td>\n",
       "      <td>4,798</td>\n",
       "    </tr>\n",
       "    <tr>\n",
       "      <th>4</th>\n",
       "      <td>100</td>\n",
       "      <td>79,076</td>\n",
       "      <td>85,802</td>\n",
       "      <td>12,962</td>\n",
       "    </tr>\n",
       "  </tbody>\n",
       "</table>\n",
       "</div>"
      ],
      "text/plain": [
       "   Zip Zip_Median Zip_Mean Zip_Pop\n",
       "0  100     56,663   66,688  16,445\n",
       "1  100     49,853   75,063  28,069\n",
       "2  100     28,462   35,121   8,491\n",
       "3  100     75,423   82,442   4,798\n",
       "4  100     79,076   85,802  12,962"
      ]
     },
     "execution_count": 16,
     "metadata": {},
     "output_type": "execute_result"
    }
   ],
   "source": [
    "zip_income.head()"
   ]
  },
  {
   "cell_type": "code",
   "execution_count": 17,
   "metadata": {
    "ExecuteTime": {
     "end_time": "2020-06-29T23:10:50.910714Z",
     "start_time": "2020-06-29T23:10:50.778154Z"
    },
    "scrolled": true
   },
   "outputs": [],
   "source": [
    "feature_removeString = {'Zip_Median': [','], 'Zip_Mean': [',', '.'], 'Zip_Pop': [',']}\n",
    "Loan_Modules.convert_categorical_numerical(zip_income, feature_removeString)"
   ]
  },
  {
   "cell_type": "code",
   "execution_count": 18,
   "metadata": {
    "ExecuteTime": {
     "end_time": "2020-06-29T23:10:50.936328Z",
     "start_time": "2020-06-29T23:10:50.912320Z"
    },
    "scrolled": true
   },
   "outputs": [],
   "source": [
    "zip_income[['Zip_Median', 'Zip_Mean','Zip_Pop']] = zip_income[['Zip_Median', 'Zip_Mean','Zip_Pop']].astype('float')"
   ]
  },
  {
   "cell_type": "code",
   "execution_count": 19,
   "metadata": {
    "ExecuteTime": {
     "end_time": "2020-06-29T23:10:50.948341Z",
     "start_time": "2020-06-29T23:10:50.937834Z"
    }
   },
   "outputs": [
    {
     "data": {
      "text/html": [
       "<div>\n",
       "<style scoped>\n",
       "    .dataframe tbody tr th:only-of-type {\n",
       "        vertical-align: middle;\n",
       "    }\n",
       "\n",
       "    .dataframe tbody tr th {\n",
       "        vertical-align: top;\n",
       "    }\n",
       "\n",
       "    .dataframe thead th {\n",
       "        text-align: right;\n",
       "    }\n",
       "</style>\n",
       "<table border=\"1\" class=\"dataframe\">\n",
       "  <thead>\n",
       "    <tr style=\"text-align: right;\">\n",
       "      <th></th>\n",
       "      <th>Zip</th>\n",
       "      <th>Zip_Median</th>\n",
       "      <th>Zip_Mean</th>\n",
       "      <th>Zip_Pop</th>\n",
       "    </tr>\n",
       "  </thead>\n",
       "  <tbody>\n",
       "    <tr>\n",
       "      <th>0</th>\n",
       "      <td>100</td>\n",
       "      <td>56663.0</td>\n",
       "      <td>66688.0</td>\n",
       "      <td>16445.0</td>\n",
       "    </tr>\n",
       "    <tr>\n",
       "      <th>1</th>\n",
       "      <td>100</td>\n",
       "      <td>49853.0</td>\n",
       "      <td>75063.0</td>\n",
       "      <td>28069.0</td>\n",
       "    </tr>\n",
       "    <tr>\n",
       "      <th>2</th>\n",
       "      <td>100</td>\n",
       "      <td>28462.0</td>\n",
       "      <td>35121.0</td>\n",
       "      <td>8491.0</td>\n",
       "    </tr>\n",
       "    <tr>\n",
       "      <th>3</th>\n",
       "      <td>100</td>\n",
       "      <td>75423.0</td>\n",
       "      <td>82442.0</td>\n",
       "      <td>4798.0</td>\n",
       "    </tr>\n",
       "    <tr>\n",
       "      <th>4</th>\n",
       "      <td>100</td>\n",
       "      <td>79076.0</td>\n",
       "      <td>85802.0</td>\n",
       "      <td>12962.0</td>\n",
       "    </tr>\n",
       "  </tbody>\n",
       "</table>\n",
       "</div>"
      ],
      "text/plain": [
       "   Zip  Zip_Median  Zip_Mean  Zip_Pop\n",
       "0  100     56663.0   66688.0  16445.0\n",
       "1  100     49853.0   75063.0  28069.0\n",
       "2  100     28462.0   35121.0   8491.0\n",
       "3  100     75423.0   82442.0   4798.0\n",
       "4  100     79076.0   85802.0  12962.0"
      ]
     },
     "execution_count": 19,
     "metadata": {},
     "output_type": "execute_result"
    }
   ],
   "source": [
    "zip_income.head()"
   ]
  },
  {
   "cell_type": "code",
   "execution_count": 20,
   "metadata": {
    "ExecuteTime": {
     "end_time": "2020-06-29T23:10:50.985674Z",
     "start_time": "2020-06-29T23:10:50.952433Z"
    },
    "scrolled": true
   },
   "outputs": [],
   "source": [
    "zipIncome = zip_income.groupby('Zip').agg({'Zip_Median': ['mean', 'min', 'max']\n",
    "                              ,'Zip_Mean': ['mean', 'min', 'max']\n",
    "                              ,'Zip_Pop': ['mean', 'min', 'max']})#.reset_index()\n",
    "zipIncome.columns = ['Zip_Median_mean', 'Zip_Median_min', 'Zip_Median_max'\n",
    "                    ,'Zip_Mean_mean', 'Zip_Mean_min', 'Zip_Mean_max'\n",
    "                    ,'Zip_Pop_mean', 'Zip_Pop_min', 'Zip_Pop_max']\n",
    "zipIncome = zipIncome.reset_index()"
   ]
  },
  {
   "cell_type": "code",
   "execution_count": 21,
   "metadata": {
    "ExecuteTime": {
     "end_time": "2020-06-29T23:10:51.006256Z",
     "start_time": "2020-06-29T23:10:50.987230Z"
    }
   },
   "outputs": [
    {
     "data": {
      "text/html": [
       "<div>\n",
       "<style scoped>\n",
       "    .dataframe tbody tr th:only-of-type {\n",
       "        vertical-align: middle;\n",
       "    }\n",
       "\n",
       "    .dataframe tbody tr th {\n",
       "        vertical-align: top;\n",
       "    }\n",
       "\n",
       "    .dataframe thead th {\n",
       "        text-align: right;\n",
       "    }\n",
       "</style>\n",
       "<table border=\"1\" class=\"dataframe\">\n",
       "  <thead>\n",
       "    <tr style=\"text-align: right;\">\n",
       "      <th></th>\n",
       "      <th>Zip</th>\n",
       "      <th>Zip_Median_mean</th>\n",
       "      <th>Zip_Median_min</th>\n",
       "      <th>Zip_Median_max</th>\n",
       "      <th>Zip_Mean_mean</th>\n",
       "      <th>Zip_Mean_min</th>\n",
       "      <th>Zip_Mean_max</th>\n",
       "      <th>Zip_Pop_mean</th>\n",
       "      <th>Zip_Pop_min</th>\n",
       "      <th>Zip_Pop_max</th>\n",
       "    </tr>\n",
       "  </thead>\n",
       "  <tbody>\n",
       "    <tr>\n",
       "      <th>0</th>\n",
       "      <td>100</td>\n",
       "      <td>72289.326531</td>\n",
       "      <td>23302.0</td>\n",
       "      <td>145459.0</td>\n",
       "      <td>111245.122449</td>\n",
       "      <td>35121.0</td>\n",
       "      <td>256236.0</td>\n",
       "      <td>30388.836735</td>\n",
       "      <td>1.0</td>\n",
       "      <td>96117.0</td>\n",
       "    </tr>\n",
       "    <tr>\n",
       "      <th>1</th>\n",
       "      <td>101</td>\n",
       "      <td>75151.545455</td>\n",
       "      <td>36578.0</td>\n",
       "      <td>105187.0</td>\n",
       "      <td>109753.818182</td>\n",
       "      <td>46179.0</td>\n",
       "      <td>180473.0</td>\n",
       "      <td>8132.636364</td>\n",
       "      <td>1.0</td>\n",
       "      <td>59434.0</td>\n",
       "    </tr>\n",
       "    <tr>\n",
       "      <th>2</th>\n",
       "      <td>102</td>\n",
       "      <td>70742.625000</td>\n",
       "      <td>50058.0</td>\n",
       "      <td>104405.0</td>\n",
       "      <td>91454.250000</td>\n",
       "      <td>58516.0</td>\n",
       "      <td>143247.0</td>\n",
       "      <td>8670.000000</td>\n",
       "      <td>2.0</td>\n",
       "      <td>29626.0</td>\n",
       "    </tr>\n",
       "    <tr>\n",
       "      <th>3</th>\n",
       "      <td>103</td>\n",
       "      <td>67986.238095</td>\n",
       "      <td>46260.0</td>\n",
       "      <td>92781.0</td>\n",
       "      <td>81923.190476</td>\n",
       "      <td>65695.0</td>\n",
       "      <td>110791.0</td>\n",
       "      <td>22052.380952</td>\n",
       "      <td>498.0</td>\n",
       "      <td>85260.0</td>\n",
       "    </tr>\n",
       "    <tr>\n",
       "      <th>4</th>\n",
       "      <td>104</td>\n",
       "      <td>34723.500000</td>\n",
       "      <td>1520.0</td>\n",
       "      <td>61446.0</td>\n",
       "      <td>44544.653846</td>\n",
       "      <td>1673.0</td>\n",
       "      <td>79167.0</td>\n",
       "      <td>51346.500000</td>\n",
       "      <td>109.0</td>\n",
       "      <td>94492.0</td>\n",
       "    </tr>\n",
       "  </tbody>\n",
       "</table>\n",
       "</div>"
      ],
      "text/plain": [
       "   Zip  Zip_Median_mean  Zip_Median_min  Zip_Median_max  Zip_Mean_mean  \\\n",
       "0  100     72289.326531         23302.0        145459.0  111245.122449   \n",
       "1  101     75151.545455         36578.0        105187.0  109753.818182   \n",
       "2  102     70742.625000         50058.0        104405.0   91454.250000   \n",
       "3  103     67986.238095         46260.0         92781.0   81923.190476   \n",
       "4  104     34723.500000          1520.0         61446.0   44544.653846   \n",
       "\n",
       "   Zip_Mean_min  Zip_Mean_max  Zip_Pop_mean  Zip_Pop_min  Zip_Pop_max  \n",
       "0       35121.0      256236.0  30388.836735          1.0      96117.0  \n",
       "1       46179.0      180473.0   8132.636364          1.0      59434.0  \n",
       "2       58516.0      143247.0   8670.000000          2.0      29626.0  \n",
       "3       65695.0      110791.0  22052.380952        498.0      85260.0  \n",
       "4        1673.0       79167.0  51346.500000        109.0      94492.0  "
      ]
     },
     "execution_count": 21,
     "metadata": {},
     "output_type": "execute_result"
    }
   ],
   "source": [
    "zipIncome.head()"
   ]
  },
  {
   "cell_type": "code",
   "execution_count": 22,
   "metadata": {
    "ExecuteTime": {
     "end_time": "2020-06-29T23:10:51.017754Z",
     "start_time": "2020-06-29T23:10:51.007724Z"
    }
   },
   "outputs": [
    {
     "data": {
      "text/html": [
       "<div>\n",
       "<style scoped>\n",
       "    .dataframe tbody tr th:only-of-type {\n",
       "        vertical-align: middle;\n",
       "    }\n",
       "\n",
       "    .dataframe tbody tr th {\n",
       "        vertical-align: top;\n",
       "    }\n",
       "\n",
       "    .dataframe thead th {\n",
       "        text-align: right;\n",
       "    }\n",
       "</style>\n",
       "<table border=\"1\" class=\"dataframe\">\n",
       "  <thead>\n",
       "    <tr style=\"text-align: right;\">\n",
       "      <th></th>\n",
       "      <th>State</th>\n",
       "      <th>19_Unemploy</th>\n",
       "      <th>18_Unemploy</th>\n",
       "    </tr>\n",
       "  </thead>\n",
       "  <tbody>\n",
       "    <tr>\n",
       "      <th>0</th>\n",
       "      <td>AL</td>\n",
       "      <td>3.9</td>\n",
       "      <td>3.0</td>\n",
       "    </tr>\n",
       "    <tr>\n",
       "      <th>1</th>\n",
       "      <td>SC</td>\n",
       "      <td>3.5</td>\n",
       "      <td>2.8</td>\n",
       "    </tr>\n",
       "    <tr>\n",
       "      <th>2</th>\n",
       "      <td>FL</td>\n",
       "      <td>3.6</td>\n",
       "      <td>3.1</td>\n",
       "    </tr>\n",
       "    <tr>\n",
       "      <th>3</th>\n",
       "      <td>GA</td>\n",
       "      <td>3.9</td>\n",
       "      <td>3.4</td>\n",
       "    </tr>\n",
       "    <tr>\n",
       "      <th>4</th>\n",
       "      <td>MA</td>\n",
       "      <td>3.4</td>\n",
       "      <td>2.9</td>\n",
       "    </tr>\n",
       "  </tbody>\n",
       "</table>\n",
       "</div>"
      ],
      "text/plain": [
       "  State  19_Unemploy  18_Unemploy\n",
       "0    AL          3.9          3.0\n",
       "1    SC          3.5          2.8\n",
       "2    FL          3.6          3.1\n",
       "3    GA          3.9          3.4\n",
       "4    MA          3.4          2.9"
      ]
     },
     "execution_count": 22,
     "metadata": {},
     "output_type": "execute_result"
    }
   ],
   "source": [
    "state_unemployment.head()"
   ]
  },
  {
   "cell_type": "code",
   "execution_count": 23,
   "metadata": {
    "ExecuteTime": {
     "end_time": "2020-06-29T23:10:51.032051Z",
     "start_time": "2020-06-29T23:10:51.022210Z"
    }
   },
   "outputs": [
    {
     "data": {
      "text/html": [
       "<div>\n",
       "<style scoped>\n",
       "    .dataframe tbody tr th:only-of-type {\n",
       "        vertical-align: middle;\n",
       "    }\n",
       "\n",
       "    .dataframe tbody tr th {\n",
       "        vertical-align: top;\n",
       "    }\n",
       "\n",
       "    .dataframe thead th {\n",
       "        text-align: right;\n",
       "    }\n",
       "</style>\n",
       "<table border=\"1\" class=\"dataframe\">\n",
       "  <thead>\n",
       "    <tr style=\"text-align: right;\">\n",
       "      <th></th>\n",
       "      <th>Time</th>\n",
       "      <th>30_fixed_APR</th>\n",
       "      <th>15_fixed_APR</th>\n",
       "      <th>ARM_APR</th>\n",
       "    </tr>\n",
       "  </thead>\n",
       "  <tbody>\n",
       "    <tr>\n",
       "      <th>0</th>\n",
       "      <td>Dec-2019</td>\n",
       "      <td>3.99%</td>\n",
       "      <td>3.56%</td>\n",
       "      <td>4.24%</td>\n",
       "    </tr>\n",
       "    <tr>\n",
       "      <th>1</th>\n",
       "      <td>Nov-2019</td>\n",
       "      <td>3.99%</td>\n",
       "      <td>3.56%</td>\n",
       "      <td>4.23%</td>\n",
       "    </tr>\n",
       "    <tr>\n",
       "      <th>2</th>\n",
       "      <td>Oct-2019</td>\n",
       "      <td>4.04%</td>\n",
       "      <td>3.56%</td>\n",
       "      <td>4.22%</td>\n",
       "    </tr>\n",
       "    <tr>\n",
       "      <th>3</th>\n",
       "      <td>Sep-2019</td>\n",
       "      <td>4.04%</td>\n",
       "      <td>3.59%</td>\n",
       "      <td>4.26%</td>\n",
       "    </tr>\n",
       "    <tr>\n",
       "      <th>4</th>\n",
       "      <td>Aug-2019</td>\n",
       "      <td>3.95%</td>\n",
       "      <td>3.49%</td>\n",
       "      <td>4.26%</td>\n",
       "    </tr>\n",
       "  </tbody>\n",
       "</table>\n",
       "</div>"
      ],
      "text/plain": [
       "       Time 30_fixed_APR 15_fixed_APR ARM_APR\n",
       "0  Dec-2019        3.99%        3.56%   4.24%\n",
       "1  Nov-2019        3.99%        3.56%   4.23%\n",
       "2  Oct-2019        4.04%        3.56%   4.22%\n",
       "3  Sep-2019        4.04%        3.59%   4.26%\n",
       "4  Aug-2019        3.95%        3.49%   4.26%"
      ]
     },
     "execution_count": 23,
     "metadata": {},
     "output_type": "execute_result"
    }
   ],
   "source": [
    "mortgage_rate_monthly.head()"
   ]
  },
  {
   "cell_type": "markdown",
   "metadata": {},
   "source": [
    "## Check response variable: LoanStatus"
   ]
  },
  {
   "cell_type": "code",
   "execution_count": 24,
   "metadata": {
    "ExecuteTime": {
     "end_time": "2020-06-29T23:10:51.983309Z",
     "start_time": "2020-06-29T23:10:51.047424Z"
    }
   },
   "outputs": [
    {
     "data": {
      "image/png": "[encoded data removed]",
      "text/plain": [
       "<Figure size 720x432 with 1 Axes>"
      ]
     },
     "metadata": {
      "needs_background": "light"
     },
     "output_type": "display_data"
    }
   ],
   "source": [
    "Loan_Modules.draw_hist_cat(df = loan_data, arr = 'loanstatus')"
   ]
  },
  {
   "cell_type": "markdown",
   "metadata": {},
   "source": [
    "**For this project, we are only interested in 'Fully Paid' and 'Charged Off'**"
   ]
  },
  {
   "cell_type": "code",
   "execution_count": 25,
   "metadata": {
    "ExecuteTime": {
     "end_time": "2020-06-29T23:10:56.348585Z",
     "start_time": "2020-06-29T23:10:51.985117Z"
    }
   },
   "outputs": [],
   "source": [
    "df = loan_data.query(\"loanstatus == 'Fully Paid' or loanstatus == 'Charged Off' or trainflag == 0\")"
   ]
  },
  {
   "cell_type": "code",
   "execution_count": 26,
   "metadata": {
    "ExecuteTime": {
     "end_time": "2020-06-29T23:10:56.963731Z",
     "start_time": "2020-06-29T23:10:56.354035Z"
    }
   },
   "outputs": [
    {
     "data": {
      "image/png": "[encoded data removed]",
      "text/plain": [
       "<Figure size 720x432 with 1 Axes>"
      ]
     },
     "metadata": {
      "needs_background": "light"
     },
     "output_type": "display_data"
    }
   ],
   "source": [
    "Loan_Modules.draw_hist_cat(df = df, arr = 'loanstatus')"
   ]
  },
  {
   "cell_type": "code",
   "execution_count": 27,
   "metadata": {
    "ExecuteTime": {
     "end_time": "2020-06-29T23:10:57.387107Z",
     "start_time": "2020-06-29T23:10:56.965060Z"
    }
   },
   "outputs": [
    {
     "name": "stderr",
     "output_type": "stream",
     "text": [
      "/home/yingjie/anaconda3/lib/python3.6/site-packages/pandas/core/indexing.py:543: SettingWithCopyWarning: \n",
      "A value is trying to be set on a copy of a slice from a DataFrame.\n",
      "Try using .loc[row_indexer,col_indexer] = value instead\n",
      "\n",
      "See the caveats in the documentation: http://pandas.pydata.org/pandas-docs/stable/indexing.html#indexing-view-versus-copy\n",
      "  self.obj[item] = s\n"
     ]
    }
   ],
   "source": [
    "df.loc[:, 'loanstatus'] = df['loanstatus'].map({'Charged Off': 1, 'Fully Paid': 0})"
   ]
  },
  {
   "cell_type": "markdown",
   "metadata": {},
   "source": [
    "## Find all numeric features, object features, and all NULL features"
   ]
  },
  {
   "cell_type": "code",
   "execution_count": 28,
   "metadata": {
    "ExecuteTime": {
     "end_time": "2020-06-29T23:10:59.182760Z",
     "start_time": "2020-06-29T23:10:57.391205Z"
    },
    "scrolled": true
   },
   "outputs": [],
   "source": [
    "all_null_feature=[]\n",
    "num_feature=[]\n",
    "ob_feature=[]\n",
    "for col in df.columns.tolist():\n",
    "    if df[col].isnull().sum()==df.shape[0]:\n",
    "        all_null_feature.append(col)\n",
    "    else:\n",
    "        if df[col].dtype == 'object':\n",
    "            ob_feature.append(col)\n",
    "        else:\n",
    "            num_feature.append(col)"
   ]
  },
  {
   "cell_type": "code",
   "execution_count": 29,
   "metadata": {
    "ExecuteTime": {
     "end_time": "2020-06-29T23:10:59.192947Z",
     "start_time": "2020-06-29T23:10:59.186796Z"
    }
   },
   "outputs": [
    {
     "name": "stdout",
     "output_type": "stream",
     "text": [
      "number of numeric features: 89\n",
      "number of object features: 20\n",
      "number of NULL features: 0\n"
     ]
    }
   ],
   "source": [
    "print('number of numeric features:', len(num_feature))\n",
    "print('number of object features:', len(ob_feature))\n",
    "print('number of NULL features:', len(all_null_feature))"
   ]
  },
  {
   "cell_type": "code",
   "execution_count": 30,
   "metadata": {
    "ExecuteTime": {
     "end_time": "2020-06-29T23:10:59.202396Z",
     "start_time": "2020-06-29T23:10:59.194565Z"
    },
    "scrolled": true
   },
   "outputs": [
    {
     "data": {
      "text/plain": [
       "['accnowdelinq',\n",
       " 'accopenpast24mths',\n",
       " 'allutil',\n",
       " 'annualinc',\n",
       " 'annualincjoint',\n",
       " 'avgcurbal',\n",
       " 'bcopentobuy',\n",
       " 'bcutil',\n",
       " 'chargeoffwithin12mths',\n",
       " 'collections12mthsexmed',\n",
       " 'delinq2yrs',\n",
       " 'delinqamnt',\n",
       " 'dti',\n",
       " 'dtijoint',\n",
       " 'ficorangehigh',\n",
       " 'ficorangelow',\n",
       " 'fundedamnt',\n",
       " 'ilutil',\n",
       " 'inqfi',\n",
       " 'inqlast12m',\n",
       " 'inqlast6mths',\n",
       " 'installment',\n",
       " 'loanamnt',\n",
       " 'loanstatus',\n",
       " 'maxbalbc',\n",
       " 'memberid',\n",
       " 'mortacc',\n",
       " 'mosinoldilacct',\n",
       " 'mosinoldrevtlop',\n",
       " 'mosinrcntrevtlop',\n",
       " 'mosinrcnttl',\n",
       " 'mthssincelastdelinq',\n",
       " 'mthssincelastmajorderog',\n",
       " 'mthssincelastrecord',\n",
       " 'mthssincercntil',\n",
       " 'mthssincerecentbc',\n",
       " 'mthssincerecentbcdlq',\n",
       " 'mthssincerecentinq',\n",
       " 'mthssincerecentrevoldelinq',\n",
       " 'numacctsever120pd',\n",
       " 'numactvbctl',\n",
       " 'numactvrevtl',\n",
       " 'numbcsats',\n",
       " 'numbctl',\n",
       " 'numiltl',\n",
       " 'numoprevtl',\n",
       " 'numrevaccts',\n",
       " 'numrevtlbalgt0',\n",
       " 'numsats',\n",
       " 'numtl120dpd2m',\n",
       " 'numtl30dpd',\n",
       " 'numtl90gdpd24m',\n",
       " 'numtloppast12m',\n",
       " 'openacc',\n",
       " 'openacc6m',\n",
       " 'openactil',\n",
       " 'openil12m',\n",
       " 'openil24m',\n",
       " 'openrv12m',\n",
       " 'openrv24m',\n",
       " 'pcttlnvrdlq',\n",
       " 'percentbcgt75',\n",
       " 'pubrec',\n",
       " 'pubrecbankruptcies',\n",
       " 'revolbal',\n",
       " 'revolbaljoint',\n",
       " 'secappchargeoffwithin12mths',\n",
       " 'secappcollections12mthsexmed',\n",
       " 'secappficorangehigh',\n",
       " 'secappficorangelow',\n",
       " 'secappinqlast6mths',\n",
       " 'secappmortacc',\n",
       " 'secappmthssincelastmajorderog',\n",
       " 'secappnumrevaccts',\n",
       " 'secappopenacc',\n",
       " 'secappopenactil',\n",
       " 'secapprevolutil',\n",
       " 'taxliens',\n",
       " 'totalacc',\n",
       " 'totalbalexmort',\n",
       " 'totalbalil',\n",
       " 'totalbclimit',\n",
       " 'totalcutl',\n",
       " 'totalilhighcreditlimit',\n",
       " 'totalrevhilim',\n",
       " 'totcollamt',\n",
       " 'totcurbal',\n",
       " 'tothicredlim']"
      ]
     },
     "execution_count": 30,
     "metadata": {},
     "output_type": "execute_result"
    }
   ],
   "source": [
    "num_feature.remove('trainflag')\n",
    "num_feature"
   ]
  },
  {
   "cell_type": "code",
   "execution_count": 31,
   "metadata": {
    "ExecuteTime": {
     "end_time": "2020-06-29T23:10:59.274728Z",
     "start_time": "2020-06-29T23:10:59.203989Z"
    },
    "scrolled": true
   },
   "outputs": [
    {
     "data": {
      "text/plain": [
       "['grade',\n",
       " 'desc',\n",
       " 'verificationstatusjoint',\n",
       " 'addrstate',\n",
       " 'issued',\n",
       " 'applicationtype',\n",
       " 'purpose',\n",
       " 'subgrade',\n",
       " 'zipcode',\n",
       " 'emplength',\n",
       " 'term',\n",
       " 'initialliststatus',\n",
       " 'emptitle',\n",
       " 'verificationstatus',\n",
       " 'revolutil',\n",
       " 'earliestcrline',\n",
       " 'intrate',\n",
       " 'secappearliestcrline',\n",
       " 'homeownership']"
      ]
     },
     "execution_count": 31,
     "metadata": {},
     "output_type": "execute_result"
    }
   ],
   "source": [
    "ob_feature = list(set(ob_feature) - set(['id', 'loanstatus']))\n",
    "ob_feature"
   ]
  },
  {
   "cell_type": "markdown",
   "metadata": {},
   "source": [
    "### Drop columns with all NULLs"
   ]
  },
  {
   "cell_type": "code",
   "execution_count": 32,
   "metadata": {
    "ExecuteTime": {
     "end_time": "2020-06-29T23:11:01.757960Z",
     "start_time": "2020-06-29T23:10:59.277976Z"
    }
   },
   "outputs": [
    {
     "name": "stderr",
     "output_type": "stream",
     "text": [
      "/home/yingjie/anaconda3/lib/python3.6/site-packages/pandas/core/frame.py:3940: SettingWithCopyWarning: \n",
      "A value is trying to be set on a copy of a slice from a DataFrame\n",
      "\n",
      "See the caveats in the documentation: http://pandas.pydata.org/pandas-docs/stable/indexing.html#indexing-view-versus-copy\n",
      "  errors=errors)\n"
     ]
    }
   ],
   "source": [
    "df.drop(all_null_feature, axis=1, inplace = True)"
   ]
  },
  {
   "cell_type": "markdown",
   "metadata": {},
   "source": [
    "# Check missing values"
   ]
  },
  {
   "cell_type": "code",
   "execution_count": 33,
   "metadata": {
    "ExecuteTime": {
     "end_time": "2020-06-29T23:11:03.966750Z",
     "start_time": "2020-06-29T23:11:01.761996Z"
    }
   },
   "outputs": [],
   "source": [
    "feature_valuecnt = pd.DataFrame()\n",
    "feature_valuecnt['features'] = df.columns.values\n",
    "feature_valuecnt['null value cnt'] = df.isnull().sum().values\n",
    "feature_valuecnt['null value pct'] = feature_valuecnt['null value cnt']/df.shape[0]"
   ]
  },
  {
   "cell_type": "code",
   "execution_count": 34,
   "metadata": {
    "ExecuteTime": {
     "end_time": "2020-06-29T23:11:04.013847Z",
     "start_time": "2020-06-29T23:11:03.970664Z"
    },
    "scrolled": true
   },
   "outputs": [
    {
     "data": {
      "text/html": [
       "<div>\n",
       "<style scoped>\n",
       "    .dataframe tbody tr th:only-of-type {\n",
       "        vertical-align: middle;\n",
       "    }\n",
       "\n",
       "    .dataframe tbody tr th {\n",
       "        vertical-align: top;\n",
       "    }\n",
       "\n",
       "    .dataframe thead th {\n",
       "        text-align: right;\n",
       "    }\n",
       "</style>\n",
       "<table border=\"1\" class=\"dataframe\">\n",
       "  <thead>\n",
       "    <tr style=\"text-align: right;\">\n",
       "      <th></th>\n",
       "      <th>features</th>\n",
       "      <th>null value cnt</th>\n",
       "      <th>null value pct</th>\n",
       "    </tr>\n",
       "  </thead>\n",
       "  <tbody>\n",
       "    <tr>\n",
       "      <th>14</th>\n",
       "      <td>desc</td>\n",
       "      <td>973514</td>\n",
       "      <td>0.999979</td>\n",
       "    </tr>\n",
       "    <tr>\n",
       "      <th>37</th>\n",
       "      <td>memberid</td>\n",
       "      <td>973501</td>\n",
       "      <td>0.999966</td>\n",
       "    </tr>\n",
       "    <tr>\n",
       "      <th>87</th>\n",
       "      <td>secappmthssincelastmajorderog</td>\n",
       "      <td>954528</td>\n",
       "      <td>0.980477</td>\n",
       "    </tr>\n",
       "    <tr>\n",
       "      <th>91</th>\n",
       "      <td>secapprevolutil</td>\n",
       "      <td>918578</td>\n",
       "      <td>0.943550</td>\n",
       "    </tr>\n",
       "    <tr>\n",
       "      <th>78</th>\n",
       "      <td>revolbaljoint</td>\n",
       "      <td>917641</td>\n",
       "      <td>0.942588</td>\n",
       "    </tr>\n",
       "    <tr>\n",
       "      <th>85</th>\n",
       "      <td>secappinqlast6mths</td>\n",
       "      <td>917640</td>\n",
       "      <td>0.942586</td>\n",
       "    </tr>\n",
       "    <tr>\n",
       "      <th>90</th>\n",
       "      <td>secappopenactil</td>\n",
       "      <td>917640</td>\n",
       "      <td>0.942586</td>\n",
       "    </tr>\n",
       "    <tr>\n",
       "      <th>84</th>\n",
       "      <td>secappficorangelow</td>\n",
       "      <td>917640</td>\n",
       "      <td>0.942586</td>\n",
       "    </tr>\n",
       "    <tr>\n",
       "      <th>83</th>\n",
       "      <td>secappficorangehigh</td>\n",
       "      <td>917640</td>\n",
       "      <td>0.942586</td>\n",
       "    </tr>\n",
       "    <tr>\n",
       "      <th>81</th>\n",
       "      <td>secappcollections12mthsexmed</td>\n",
       "      <td>917640</td>\n",
       "      <td>0.942586</td>\n",
       "    </tr>\n",
       "    <tr>\n",
       "      <th>89</th>\n",
       "      <td>secappopenacc</td>\n",
       "      <td>917640</td>\n",
       "      <td>0.942586</td>\n",
       "    </tr>\n",
       "    <tr>\n",
       "      <th>80</th>\n",
       "      <td>secappchargeoffwithin12mths</td>\n",
       "      <td>917640</td>\n",
       "      <td>0.942586</td>\n",
       "    </tr>\n",
       "    <tr>\n",
       "      <th>88</th>\n",
       "      <td>secappnumrevaccts</td>\n",
       "      <td>917640</td>\n",
       "      <td>0.942586</td>\n",
       "    </tr>\n",
       "    <tr>\n",
       "      <th>82</th>\n",
       "      <td>secappearliestcrline</td>\n",
       "      <td>917640</td>\n",
       "      <td>0.942586</td>\n",
       "    </tr>\n",
       "    <tr>\n",
       "      <th>86</th>\n",
       "      <td>secappmortacc</td>\n",
       "      <td>917640</td>\n",
       "      <td>0.942586</td>\n",
       "    </tr>\n",
       "    <tr>\n",
       "      <th>107</th>\n",
       "      <td>verificationstatusjoint</td>\n",
       "      <td>909174</td>\n",
       "      <td>0.933890</td>\n",
       "    </tr>\n",
       "    <tr>\n",
       "      <th>16</th>\n",
       "      <td>dtijoint</td>\n",
       "      <td>907224</td>\n",
       "      <td>0.931887</td>\n",
       "    </tr>\n",
       "    <tr>\n",
       "      <th>5</th>\n",
       "      <td>annualincjoint</td>\n",
       "      <td>907222</td>\n",
       "      <td>0.931885</td>\n",
       "    </tr>\n",
       "    <tr>\n",
       "      <th>45</th>\n",
       "      <td>mthssincelastrecord</td>\n",
       "      <td>801318</td>\n",
       "      <td>0.823102</td>\n",
       "    </tr>\n",
       "    <tr>\n",
       "      <th>48</th>\n",
       "      <td>mthssincerecentbcdlq</td>\n",
       "      <td>745089</td>\n",
       "      <td>0.765345</td>\n",
       "    </tr>\n",
       "    <tr>\n",
       "      <th>44</th>\n",
       "      <td>mthssincelastmajorderog</td>\n",
       "      <td>709402</td>\n",
       "      <td>0.728687</td>\n",
       "    </tr>\n",
       "    <tr>\n",
       "      <th>50</th>\n",
       "      <td>mthssincerecentrevoldelinq</td>\n",
       "      <td>646430</td>\n",
       "      <td>0.664004</td>\n",
       "    </tr>\n",
       "    <tr>\n",
       "      <th>43</th>\n",
       "      <td>mthssincelastdelinq</td>\n",
       "      <td>489544</td>\n",
       "      <td>0.502852</td>\n",
       "    </tr>\n",
       "    <tr>\n",
       "      <th>26</th>\n",
       "      <td>ilutil</td>\n",
       "      <td>136736</td>\n",
       "      <td>0.140453</td>\n",
       "    </tr>\n",
       "    <tr>\n",
       "      <th>49</th>\n",
       "      <td>mthssincerecentinq</td>\n",
       "      <td>98412</td>\n",
       "      <td>0.101087</td>\n",
       "    </tr>\n",
       "    <tr>\n",
       "      <th>19</th>\n",
       "      <td>emptitle</td>\n",
       "      <td>78267</td>\n",
       "      <td>0.080395</td>\n",
       "    </tr>\n",
       "    <tr>\n",
       "      <th>18</th>\n",
       "      <td>emplength</td>\n",
       "      <td>71565</td>\n",
       "      <td>0.073511</td>\n",
       "    </tr>\n",
       "    <tr>\n",
       "      <th>61</th>\n",
       "      <td>numtl120dpd2m</td>\n",
       "      <td>41213</td>\n",
       "      <td>0.042333</td>\n",
       "    </tr>\n",
       "    <tr>\n",
       "      <th>46</th>\n",
       "      <td>mthssincercntil</td>\n",
       "      <td>28089</td>\n",
       "      <td>0.028853</td>\n",
       "    </tr>\n",
       "    <tr>\n",
       "      <th>39</th>\n",
       "      <td>mosinoldilacct</td>\n",
       "      <td>28038</td>\n",
       "      <td>0.028800</td>\n",
       "    </tr>\n",
       "    <tr>\n",
       "      <th>...</th>\n",
       "      <td>...</td>\n",
       "      <td>...</td>\n",
       "      <td>...</td>\n",
       "    </tr>\n",
       "    <tr>\n",
       "      <th>21</th>\n",
       "      <td>ficorangelow</td>\n",
       "      <td>0</td>\n",
       "      <td>0.000000</td>\n",
       "    </tr>\n",
       "    <tr>\n",
       "      <th>20</th>\n",
       "      <td>ficorangehigh</td>\n",
       "      <td>0</td>\n",
       "      <td>0.000000</td>\n",
       "    </tr>\n",
       "    <tr>\n",
       "      <th>17</th>\n",
       "      <td>earliestcrline</td>\n",
       "      <td>0</td>\n",
       "      <td>0.000000</td>\n",
       "    </tr>\n",
       "    <tr>\n",
       "      <th>13</th>\n",
       "      <td>delinqamnt</td>\n",
       "      <td>0</td>\n",
       "      <td>0.000000</td>\n",
       "    </tr>\n",
       "    <tr>\n",
       "      <th>12</th>\n",
       "      <td>delinq2yrs</td>\n",
       "      <td>0</td>\n",
       "      <td>0.000000</td>\n",
       "    </tr>\n",
       "    <tr>\n",
       "      <th>11</th>\n",
       "      <td>collections12mthsexmed</td>\n",
       "      <td>0</td>\n",
       "      <td>0.000000</td>\n",
       "    </tr>\n",
       "    <tr>\n",
       "      <th>10</th>\n",
       "      <td>chargeoffwithin12mths</td>\n",
       "      <td>0</td>\n",
       "      <td>0.000000</td>\n",
       "    </tr>\n",
       "    <tr>\n",
       "      <th>6</th>\n",
       "      <td>applicationtype</td>\n",
       "      <td>0</td>\n",
       "      <td>0.000000</td>\n",
       "    </tr>\n",
       "    <tr>\n",
       "      <th>4</th>\n",
       "      <td>annualinc</td>\n",
       "      <td>0</td>\n",
       "      <td>0.000000</td>\n",
       "    </tr>\n",
       "    <tr>\n",
       "      <th>2</th>\n",
       "      <td>addrstate</td>\n",
       "      <td>0</td>\n",
       "      <td>0.000000</td>\n",
       "    </tr>\n",
       "    <tr>\n",
       "      <th>31</th>\n",
       "      <td>installment</td>\n",
       "      <td>0</td>\n",
       "      <td>0.000000</td>\n",
       "    </tr>\n",
       "    <tr>\n",
       "      <th>34</th>\n",
       "      <td>loanamnt</td>\n",
       "      <td>0</td>\n",
       "      <td>0.000000</td>\n",
       "    </tr>\n",
       "    <tr>\n",
       "      <th>64</th>\n",
       "      <td>numtloppast12m</td>\n",
       "      <td>0</td>\n",
       "      <td>0.000000</td>\n",
       "    </tr>\n",
       "    <tr>\n",
       "      <th>38</th>\n",
       "      <td>mortacc</td>\n",
       "      <td>0</td>\n",
       "      <td>0.000000</td>\n",
       "    </tr>\n",
       "    <tr>\n",
       "      <th>63</th>\n",
       "      <td>numtl90gdpd24m</td>\n",
       "      <td>0</td>\n",
       "      <td>0.000000</td>\n",
       "    </tr>\n",
       "    <tr>\n",
       "      <th>62</th>\n",
       "      <td>numtl30dpd</td>\n",
       "      <td>0</td>\n",
       "      <td>0.000000</td>\n",
       "    </tr>\n",
       "    <tr>\n",
       "      <th>60</th>\n",
       "      <td>numsats</td>\n",
       "      <td>0</td>\n",
       "      <td>0.000000</td>\n",
       "    </tr>\n",
       "    <tr>\n",
       "      <th>59</th>\n",
       "      <td>numrevtlbalgt0</td>\n",
       "      <td>0</td>\n",
       "      <td>0.000000</td>\n",
       "    </tr>\n",
       "    <tr>\n",
       "      <th>58</th>\n",
       "      <td>numrevaccts</td>\n",
       "      <td>0</td>\n",
       "      <td>0.000000</td>\n",
       "    </tr>\n",
       "    <tr>\n",
       "      <th>57</th>\n",
       "      <td>numoprevtl</td>\n",
       "      <td>0</td>\n",
       "      <td>0.000000</td>\n",
       "    </tr>\n",
       "    <tr>\n",
       "      <th>56</th>\n",
       "      <td>numiltl</td>\n",
       "      <td>0</td>\n",
       "      <td>0.000000</td>\n",
       "    </tr>\n",
       "    <tr>\n",
       "      <th>55</th>\n",
       "      <td>numbctl</td>\n",
       "      <td>0</td>\n",
       "      <td>0.000000</td>\n",
       "    </tr>\n",
       "    <tr>\n",
       "      <th>1</th>\n",
       "      <td>accopenpast24mths</td>\n",
       "      <td>0</td>\n",
       "      <td>0.000000</td>\n",
       "    </tr>\n",
       "    <tr>\n",
       "      <th>53</th>\n",
       "      <td>numactvrevtl</td>\n",
       "      <td>0</td>\n",
       "      <td>0.000000</td>\n",
       "    </tr>\n",
       "    <tr>\n",
       "      <th>52</th>\n",
       "      <td>numactvbctl</td>\n",
       "      <td>0</td>\n",
       "      <td>0.000000</td>\n",
       "    </tr>\n",
       "    <tr>\n",
       "      <th>51</th>\n",
       "      <td>numacctsever120pd</td>\n",
       "      <td>0</td>\n",
       "      <td>0.000000</td>\n",
       "    </tr>\n",
       "    <tr>\n",
       "      <th>42</th>\n",
       "      <td>mosinrcnttl</td>\n",
       "      <td>0</td>\n",
       "      <td>0.000000</td>\n",
       "    </tr>\n",
       "    <tr>\n",
       "      <th>41</th>\n",
       "      <td>mosinrcntrevtlop</td>\n",
       "      <td>0</td>\n",
       "      <td>0.000000</td>\n",
       "    </tr>\n",
       "    <tr>\n",
       "      <th>40</th>\n",
       "      <td>mosinoldrevtlop</td>\n",
       "      <td>0</td>\n",
       "      <td>0.000000</td>\n",
       "    </tr>\n",
       "    <tr>\n",
       "      <th>54</th>\n",
       "      <td>numbcsats</td>\n",
       "      <td>0</td>\n",
       "      <td>0.000000</td>\n",
       "    </tr>\n",
       "  </tbody>\n",
       "</table>\n",
       "<p>109 rows × 3 columns</p>\n",
       "</div>"
      ],
      "text/plain": [
       "                          features  null value cnt  null value pct\n",
       "14                            desc          973514        0.999979\n",
       "37                        memberid          973501        0.999966\n",
       "87   secappmthssincelastmajorderog          954528        0.980477\n",
       "91                 secapprevolutil          918578        0.943550\n",
       "78                   revolbaljoint          917641        0.942588\n",
       "85              secappinqlast6mths          917640        0.942586\n",
       "90                 secappopenactil          917640        0.942586\n",
       "84              secappficorangelow          917640        0.942586\n",
       "83             secappficorangehigh          917640        0.942586\n",
       "81    secappcollections12mthsexmed          917640        0.942586\n",
       "89                   secappopenacc          917640        0.942586\n",
       "80     secappchargeoffwithin12mths          917640        0.942586\n",
       "88               secappnumrevaccts          917640        0.942586\n",
       "82            secappearliestcrline          917640        0.942586\n",
       "86                   secappmortacc          917640        0.942586\n",
       "107        verificationstatusjoint          909174        0.933890\n",
       "16                        dtijoint          907224        0.931887\n",
       "5                   annualincjoint          907222        0.931885\n",
       "45             mthssincelastrecord          801318        0.823102\n",
       "48            mthssincerecentbcdlq          745089        0.765345\n",
       "44         mthssincelastmajorderog          709402        0.728687\n",
       "50      mthssincerecentrevoldelinq          646430        0.664004\n",
       "43             mthssincelastdelinq          489544        0.502852\n",
       "26                          ilutil          136736        0.140453\n",
       "49              mthssincerecentinq           98412        0.101087\n",
       "19                        emptitle           78267        0.080395\n",
       "18                       emplength           71565        0.073511\n",
       "61                   numtl120dpd2m           41213        0.042333\n",
       "46                 mthssincercntil           28089        0.028853\n",
       "39                  mosinoldilacct           28038        0.028800\n",
       "..                             ...             ...             ...\n",
       "21                    ficorangelow               0        0.000000\n",
       "20                   ficorangehigh               0        0.000000\n",
       "17                  earliestcrline               0        0.000000\n",
       "13                      delinqamnt               0        0.000000\n",
       "12                      delinq2yrs               0        0.000000\n",
       "11          collections12mthsexmed               0        0.000000\n",
       "10           chargeoffwithin12mths               0        0.000000\n",
       "6                  applicationtype               0        0.000000\n",
       "4                        annualinc               0        0.000000\n",
       "2                        addrstate               0        0.000000\n",
       "31                     installment               0        0.000000\n",
       "34                        loanamnt               0        0.000000\n",
       "64                  numtloppast12m               0        0.000000\n",
       "38                         mortacc               0        0.000000\n",
       "63                  numtl90gdpd24m               0        0.000000\n",
       "62                      numtl30dpd               0        0.000000\n",
       "60                         numsats               0        0.000000\n",
       "59                  numrevtlbalgt0               0        0.000000\n",
       "58                     numrevaccts               0        0.000000\n",
       "57                      numoprevtl               0        0.000000\n",
       "56                         numiltl               0        0.000000\n",
       "55                         numbctl               0        0.000000\n",
       "1                accopenpast24mths               0        0.000000\n",
       "53                    numactvrevtl               0        0.000000\n",
       "52                     numactvbctl               0        0.000000\n",
       "51               numacctsever120pd               0        0.000000\n",
       "42                     mosinrcnttl               0        0.000000\n",
       "41                mosinrcntrevtlop               0        0.000000\n",
       "40                 mosinoldrevtlop               0        0.000000\n",
       "54                       numbcsats               0        0.000000\n",
       "\n",
       "[109 rows x 3 columns]"
      ]
     },
     "execution_count": 34,
     "metadata": {},
     "output_type": "execute_result"
    }
   ],
   "source": [
    "feature_valuecnt.sort_values(by = ['null value pct'], ascending = False)"
   ]
  },
  {
   "cell_type": "markdown",
   "metadata": {},
   "source": [
    "From the histogram below, we can see that most of the features do not have NULL values <br>\n",
    "For around **20** features, more than **70** percent of the values is NULL"
   ]
  },
  {
   "cell_type": "code",
   "execution_count": 35,
   "metadata": {
    "ExecuteTime": {
     "end_time": "2020-06-29T23:11:04.019456Z",
     "start_time": "2020-06-29T23:11:04.015525Z"
    },
    "scrolled": true
   },
   "outputs": [],
   "source": [
    "feature_null = feature_valuecnt[feature_valuecnt['null value pct'] >= 0.7]"
   ]
  },
  {
   "cell_type": "code",
   "execution_count": 36,
   "metadata": {
    "ExecuteTime": {
     "end_time": "2020-06-29T23:11:04.423406Z",
     "start_time": "2020-06-29T23:11:04.021021Z"
    },
    "scrolled": true
   },
   "outputs": [
    {
     "data": {
      "image/png": "[encoded data removed]",
      "text/plain": [
       "<Figure size 1440x504 with 1 Axes>"
      ]
     },
     "metadata": {
      "needs_background": "light"
     },
     "output_type": "display_data"
    }
   ],
   "source": [
    "fig = plt.figure(figsize=(20,7))\n",
    "ax = fig.add_axes([0,0,1,1])\n",
    "ax.bar(feature_null['features'],feature_null['null value pct'], align='center')\n",
    "plt.xticks(rotation=90, fontsize=14)\n",
    "plt.title('Features with mostly NULL values', fontsize=14)\n",
    "plt.show()"
   ]
  },
  {
   "cell_type": "markdown",
   "metadata": {},
   "source": [
    "## Drop those columns that have more than 70% NULL values"
   ]
  },
  {
   "cell_type": "code",
   "execution_count": 37,
   "metadata": {
    "ExecuteTime": {
     "end_time": "2020-06-29T23:11:04.432649Z",
     "start_time": "2020-06-29T23:11:04.425079Z"
    },
    "scrolled": true
   },
   "outputs": [
    {
     "data": {
      "text/plain": [
       "['annualincjoint',\n",
       " 'desc',\n",
       " 'dtijoint',\n",
       " 'memberid',\n",
       " 'mthssincelastmajorderog',\n",
       " 'mthssincelastrecord',\n",
       " 'mthssincerecentbcdlq',\n",
       " 'revolbaljoint',\n",
       " 'secappchargeoffwithin12mths',\n",
       " 'secappcollections12mthsexmed',\n",
       " 'secappearliestcrline',\n",
       " 'secappficorangehigh',\n",
       " 'secappficorangelow',\n",
       " 'secappinqlast6mths',\n",
       " 'secappmortacc',\n",
       " 'secappmthssincelastmajorderog',\n",
       " 'secappnumrevaccts',\n",
       " 'secappopenacc',\n",
       " 'secappopenactil',\n",
       " 'secapprevolutil',\n",
       " 'verificationstatusjoint']"
      ]
     },
     "execution_count": 37,
     "metadata": {},
     "output_type": "execute_result"
    }
   ],
   "source": [
    "missing = feature_valuecnt['features'][feature_valuecnt['null value pct'] >= 0.7].tolist()\n",
    "missing"
   ]
  },
  {
   "cell_type": "code",
   "execution_count": 38,
   "metadata": {
    "ExecuteTime": {
     "end_time": "2020-06-29T23:11:04.912032Z",
     "start_time": "2020-06-29T23:11:04.434855Z"
    }
   },
   "outputs": [],
   "source": [
    "df_copy = df.copy() ## make a copy of the current dataframe"
   ]
  },
  {
   "cell_type": "code",
   "execution_count": 39,
   "metadata": {
    "ExecuteTime": {
     "end_time": "2020-06-29T23:11:05.442044Z",
     "start_time": "2020-06-29T23:11:04.913474Z"
    }
   },
   "outputs": [
    {
     "name": "stderr",
     "output_type": "stream",
     "text": [
      "/home/yingjie/anaconda3/lib/python3.6/site-packages/pandas/core/frame.py:3940: SettingWithCopyWarning: \n",
      "A value is trying to be set on a copy of a slice from a DataFrame\n",
      "\n",
      "See the caveats in the documentation: http://pandas.pydata.org/pandas-docs/stable/indexing.html#indexing-view-versus-copy\n",
      "  errors=errors)\n"
     ]
    }
   ],
   "source": [
    "df.drop(missing, axis=1, inplace=True)"
   ]
  },
  {
   "cell_type": "code",
   "execution_count": 40,
   "metadata": {
    "ExecuteTime": {
     "end_time": "2020-06-29T23:11:05.450244Z",
     "start_time": "2020-06-29T23:11:05.444833Z"
    }
   },
   "outputs": [],
   "source": [
    "num_feature = list(set(num_feature) - set(missing))\n",
    "ob_feature = list(set(ob_feature) - set(missing))"
   ]
  },
  {
   "cell_type": "markdown",
   "metadata": {},
   "source": [
    "## Categorical features"
   ]
  },
  {
   "cell_type": "markdown",
   "metadata": {},
   "source": [
    "Remove **earliestcrline**, **issued**, **emplength**, **intrate**, **revolutil**, and **term** from categorical features and add to numerical features. <br>\n",
    "Since these features should be converted to numerical features"
   ]
  },
  {
   "cell_type": "code",
   "execution_count": 41,
   "metadata": {
    "ExecuteTime": {
     "end_time": "2020-06-29T23:11:05.458762Z",
     "start_time": "2020-06-29T23:11:05.453386Z"
    }
   },
   "outputs": [],
   "source": [
    "num_ob_feature = ['earliestcrline', 'issued', 'emplength', 'intrate', 'revolutil', 'secappearliestcrline', 'term']\n",
    "ob_feature_list = list(set(ob_feature) - set(num_ob_feature))"
   ]
  },
  {
   "cell_type": "code",
   "execution_count": 42,
   "metadata": {
    "ExecuteTime": {
     "end_time": "2020-06-29T23:11:05.470815Z",
     "start_time": "2020-06-29T23:11:05.461778Z"
    },
    "scrolled": true
   },
   "outputs": [
    {
     "data": {
      "text/plain": [
       "['inqlast6mths',\n",
       " 'mosinrcnttl',\n",
       " 'revolbal',\n",
       " 'numrevtlbalgt0',\n",
       " 'allutil',\n",
       " 'numiltl',\n",
       " 'numbcsats',\n",
       " 'totcurbal',\n",
       " 'mosinrcntrevtlop',\n",
       " 'taxliens',\n",
       " 'loanstatus',\n",
       " 'numtl120dpd2m',\n",
       " 'pubrec',\n",
       " 'maxbalbc',\n",
       " 'openil12m',\n",
       " 'fundedamnt',\n",
       " 'openacc6m',\n",
       " 'totalilhighcreditlimit',\n",
       " 'totalcutl',\n",
       " 'bcutil',\n",
       " 'chargeoffwithin12mths',\n",
       " 'totalrevhilim',\n",
       " 'openil24m',\n",
       " 'inqlast12m',\n",
       " 'mosinoldrevtlop',\n",
       " 'installment',\n",
       " 'totcollamt',\n",
       " 'numrevaccts',\n",
       " 'collections12mthsexmed',\n",
       " 'pcttlnvrdlq',\n",
       " 'ficorangehigh',\n",
       " 'mosinoldilacct',\n",
       " 'numactvbctl',\n",
       " 'mthssincercntil',\n",
       " 'annualinc',\n",
       " 'totalbalil',\n",
       " 'numactvrevtl',\n",
       " 'mthssincelastdelinq',\n",
       " 'bcopentobuy',\n",
       " 'numoprevtl',\n",
       " 'tothicredlim',\n",
       " 'openacc',\n",
       " 'totalbclimit',\n",
       " 'mthssincerecentbc',\n",
       " 'openactil',\n",
       " 'loanamnt',\n",
       " 'numtl90gdpd24m',\n",
       " 'numsats',\n",
       " 'totalacc',\n",
       " 'ficorangelow',\n",
       " 'accnowdelinq',\n",
       " 'numtloppast12m',\n",
       " 'openrv12m',\n",
       " 'totalbalexmort',\n",
       " 'accopenpast24mths',\n",
       " 'avgcurbal',\n",
       " 'delinqamnt',\n",
       " 'mortacc',\n",
       " 'mthssincerecentrevoldelinq',\n",
       " 'numacctsever120pd',\n",
       " 'numtl30dpd',\n",
       " 'percentbcgt75',\n",
       " 'delinq2yrs',\n",
       " 'mthssincerecentinq',\n",
       " 'openrv24m',\n",
       " 'inqfi',\n",
       " 'dti',\n",
       " 'pubrecbankruptcies',\n",
       " 'numbctl',\n",
       " 'ilutil',\n",
       " 'earliestcrline',\n",
       " 'issued',\n",
       " 'emplength',\n",
       " 'intrate',\n",
       " 'revolutil',\n",
       " 'secappearliestcrline',\n",
       " 'term']"
      ]
     },
     "execution_count": 42,
     "metadata": {},
     "output_type": "execute_result"
    }
   ],
   "source": [
    "num_feature += num_ob_feature\n",
    "num_feature"
   ]
  },
  {
   "cell_type": "code",
   "execution_count": 43,
   "metadata": {
    "ExecuteTime": {
     "end_time": "2020-06-29T23:11:05.482579Z",
     "start_time": "2020-06-29T23:11:05.473354Z"
    }
   },
   "outputs": [],
   "source": [
    "ob_feature_list_1 = list(set(ob_feature_list) - set(['zipcode', 'emptitle']))\n",
    "ob_feature_list_2 = ['zipcode', 'emptitle'] #zipcode and emptitle will be processed later"
   ]
  },
  {
   "cell_type": "code",
   "execution_count": 44,
   "metadata": {
    "ExecuteTime": {
     "end_time": "2020-06-29T23:11:09.683213Z",
     "start_time": "2020-06-29T23:11:05.484868Z"
    }
   },
   "outputs": [
    {
     "data": {
      "image/png": "[encoded data removed]",
      "text/plain": [
       "<Figure size 720x432 with 1 Axes>"
      ]
     },
     "metadata": {
      "needs_background": "light"
     },
     "output_type": "display_data"
    },
    {
     "data": {
      "image/png": "[encoded data removed]",
      "text/plain": [
       "<Figure size 720x432 with 1 Axes>"
      ]
     },
     "metadata": {
      "needs_background": "light"
     },
     "output_type": "display_data"
    },
    {
     "data": {
      "image/png": "[encoded data removed]",
      "text/plain": [
       "<Figure size 720x432 with 1 Axes>"
      ]
     },
     "metadata": {
      "needs_background": "light"
     },
     "output_type": "display_data"
    },
    {
     "data": {
      "image/png": "[encoded data removed]",
      "text/plain": [
       "<Figure size 720x432 with 1 Axes>"
      ]
     },
     "metadata": {
      "needs_background": "light"
     },
     "output_type": "display_data"
    },
    {
     "data": {
      "image/png": "[encoded data removed]",
      "text/plain": [
       "<Figure size 720x432 with 1 Axes>"
      ]
     },
     "metadata": {
      "needs_background": "light"
     },
     "output_type": "display_data"
    },
    {
     "data": {
      "image/png": "[encoded data removed]",
      "text/plain": [
       "<Figure size 720x432 with 1 Axes>"
      ]
     },
     "metadata": {
      "needs_background": "light"
     },
     "output_type": "display_data"
    },
    {
     "data": {
      "image/png": "[encoded data removed]",
      "text/plain": [
       "<Figure size 720x432 with 1 Axes>"
      ]
     },
     "metadata": {
      "needs_background": "light"
     },
     "output_type": "display_data"
    },
    {
     "data": {
      "image/png": "[encoded data removed]",
      "text/plain": [
       "<Figure size 720x432 with 1 Axes>"
      ]
     },
     "metadata": {
      "needs_background": "light"
     },
     "output_type": "display_data"
    }
   ],
   "source": [
    "for ob_feature in ob_feature_list_1:\n",
    "    Loan_Modules.draw_hist_cat(df = df, arr = ob_feature)"
   ]
  },
  {
   "cell_type": "markdown",
   "metadata": {},
   "source": [
    "### Process the categorical features"
   ]
  },
  {
   "cell_type": "markdown",
   "metadata": {},
   "source": [
    "#### Purpose\n",
    "Combine 'major purchase', 'small business', 'car', 'medical', 'moving', 'house', 'vacation', 'renewable_energy' to 'other'"
   ]
  },
  {
   "cell_type": "code",
   "execution_count": 45,
   "metadata": {
    "ExecuteTime": {
     "end_time": "2020-06-29T23:11:09.828214Z",
     "start_time": "2020-06-29T23:11:09.685279Z"
    }
   },
   "outputs": [
    {
     "name": "stderr",
     "output_type": "stream",
     "text": [
      "/home/yingjie/anaconda3/lib/python3.6/site-packages/pandas/core/indexing.py:543: SettingWithCopyWarning: \n",
      "A value is trying to be set on a copy of a slice from a DataFrame.\n",
      "Try using .loc[row_indexer,col_indexer] = value instead\n",
      "\n",
      "See the caveats in the documentation: http://pandas.pydata.org/pandas-docs/stable/indexing.html#indexing-view-versus-copy\n",
      "  self.obj[item] = s\n"
     ]
    }
   ],
   "source": [
    "df.loc[df['purpose'].isin(['major_purchase', 'small_business', 'car', 'medical', 'moving', 'house', 'vacation', 'renewable_energy' ]), 'purpose'] = 'other'"
   ]
  },
  {
   "cell_type": "markdown",
   "metadata": {
    "ExecuteTime": {
     "end_time": "2020-06-07T18:09:32.422727Z",
     "start_time": "2020-06-07T18:09:32.417856Z"
    }
   },
   "source": [
    "#### subgrade\n",
    "Combine E, F, G into Other"
   ]
  },
  {
   "cell_type": "code",
   "execution_count": 46,
   "metadata": {
    "ExecuteTime": {
     "end_time": "2020-06-29T23:11:09.986454Z",
     "start_time": "2020-06-29T23:11:09.831167Z"
    }
   },
   "outputs": [],
   "source": [
    "df.loc[df['subgrade'].isin(['E1', 'E2', 'E3', 'E4', 'E5', 'F1', 'F2', 'F3', 'F4', 'F5', 'G1', 'G2', 'G3']), 'subgrade'] = 'other'"
   ]
  },
  {
   "cell_type": "markdown",
   "metadata": {
    "ExecuteTime": {
     "end_time": "2020-06-07T18:12:01.364753Z",
     "start_time": "2020-06-07T18:12:01.356828Z"
    }
   },
   "source": [
    "#### grade\n",
    "Combine E, F, G into Other"
   ]
  },
  {
   "cell_type": "code",
   "execution_count": 47,
   "metadata": {
    "ExecuteTime": {
     "end_time": "2020-06-29T23:11:10.158239Z",
     "start_time": "2020-06-29T23:11:09.988233Z"
    }
   },
   "outputs": [],
   "source": [
    "df.loc[df['grade'].isin(['E', 'G', 'F']), 'grade'] = 'other'"
   ]
  },
  {
   "cell_type": "markdown",
   "metadata": {
    "ExecuteTime": {
     "end_time": "2020-06-07T18:14:40.599270Z",
     "start_time": "2020-06-07T18:14:40.592295Z"
    }
   },
   "source": [
    "#### initialliststatus\n",
    "Combine F to f"
   ]
  },
  {
   "cell_type": "code",
   "execution_count": 48,
   "metadata": {
    "ExecuteTime": {
     "end_time": "2020-06-29T23:11:10.299956Z",
     "start_time": "2020-06-29T23:11:10.160468Z"
    }
   },
   "outputs": [],
   "source": [
    "df.loc[df['initialliststatus'] == 'F', 'initialliststatus'] = 'f'"
   ]
  },
  {
   "cell_type": "markdown",
   "metadata": {},
   "source": [
    "#### addrstate\n",
    "Combine addrstate with state unemployment"
   ]
  },
  {
   "cell_type": "code",
   "execution_count": 49,
   "metadata": {
    "ExecuteTime": {
     "end_time": "2020-06-29T23:11:15.198615Z",
     "start_time": "2020-06-29T23:11:10.302247Z"
    }
   },
   "outputs": [],
   "source": [
    "df = df.merge(state_unemployment, left_on = 'addrstate', right_on = 'State', how = 'left')"
   ]
  },
  {
   "cell_type": "code",
   "execution_count": 50,
   "metadata": {
    "ExecuteTime": {
     "end_time": "2020-06-29T23:11:16.568696Z",
     "start_time": "2020-06-29T23:11:15.200111Z"
    }
   },
   "outputs": [],
   "source": [
    "df.drop(columns = 'State', inplace = True)"
   ]
  },
  {
   "cell_type": "markdown",
   "metadata": {
    "ExecuteTime": {
     "end_time": "2020-06-07T18:08:10.024215Z",
     "start_time": "2020-06-07T18:08:10.018869Z"
    }
   },
   "source": [
    "#### verificationStatus\n",
    "Combine 'Verified' and 'Source Verified'"
   ]
  },
  {
   "cell_type": "code",
   "execution_count": 51,
   "metadata": {
    "ExecuteTime": {
     "end_time": "2020-06-29T23:11:16.890794Z",
     "start_time": "2020-06-29T23:11:16.570224Z"
    }
   },
   "outputs": [],
   "source": [
    "df.loc[df['verificationstatus'] == 'NOT_VERIFIED', 'verificationstatus'] = 'Not Verified'\n",
    "df.loc[df['verificationstatus'] == 'SOURCE_VERIFIED', 'verificationstatus'] = 'Verified'\n",
    "df.loc[df['verificationstatus'] == 'VERIFIED', 'verificationstatus'] = 'Verified'\n",
    "df.loc[df['verificationstatus'] == 'Source Verified', 'verificationstatus'] = 'Verified'"
   ]
  },
  {
   "cell_type": "markdown",
   "metadata": {},
   "source": [
    "#### applicationtype\n",
    "Combine 'INDIVIDUAL' to 'Individual' <br>\n",
    "Combine 'JOINT' to 'Joint App' <br>"
   ]
  },
  {
   "cell_type": "code",
   "execution_count": 52,
   "metadata": {
    "ExecuteTime": {
     "end_time": "2020-06-29T23:11:17.086902Z",
     "start_time": "2020-06-29T23:11:16.896020Z"
    }
   },
   "outputs": [],
   "source": [
    "df.loc[df['applicationtype'] == 'INDIVIDUAL', 'applicationtype'] = 'Individual'\n",
    "df.loc[df['applicationtype'] == 'JOINT', 'applicationtype'] = 'Joint App'"
   ]
  },
  {
   "cell_type": "code",
   "execution_count": 53,
   "metadata": {
    "ExecuteTime": {
     "end_time": "2020-06-29T23:11:21.039879Z",
     "start_time": "2020-06-29T23:11:17.088291Z"
    }
   },
   "outputs": [
    {
     "data": {
      "image/png": "[encoded data removed]",
      "text/plain": [
       "<Figure size 720x432 with 1 Axes>"
      ]
     },
     "metadata": {
      "needs_background": "light"
     },
     "output_type": "display_data"
    },
    {
     "data": {
      "image/png": "[encoded data removed]",
      "text/plain": [
       "<Figure size 720x432 with 1 Axes>"
      ]
     },
     "metadata": {
      "needs_background": "light"
     },
     "output_type": "display_data"
    },
    {
     "data": {
      "image/png": "[encoded data removed]",
      "text/plain": [
       "<Figure size 720x432 with 1 Axes>"
      ]
     },
     "metadata": {
      "needs_background": "light"
     },
     "output_type": "display_data"
    },
    {
     "data": {
      "image/png": "[encoded data removed]",
      "text/plain": [
       "<Figure size 720x432 with 1 Axes>"
      ]
     },
     "metadata": {
      "needs_background": "light"
     },
     "output_type": "display_data"
    },
    {
     "data": {
      "image/png": "[encoded data removed]",
      "text/plain": [
       "<Figure size 720x432 with 1 Axes>"
      ]
     },
     "metadata": {
      "needs_background": "light"
     },
     "output_type": "display_data"
    },
    {
     "data": {
      "image/png": "[encoded data removed]",
      "text/plain": [
       "<Figure size 720x432 with 1 Axes>"
      ]
     },
     "metadata": {
      "needs_background": "light"
     },
     "output_type": "display_data"
    },
    {
     "data": {
      "image/png": "[encoded data removed]",
      "text/plain": [
       "<Figure size 720x432 with 1 Axes>"
      ]
     },
     "metadata": {
      "needs_background": "light"
     },
     "output_type": "display_data"
    },
    {
     "data": {
      "image/png": "[encoded data removed]",
      "text/plain": [
       "<Figure size 720x432 with 1 Axes>"
      ]
     },
     "metadata": {
      "needs_background": "light"
     },
     "output_type": "display_data"
    }
   ],
   "source": [
    "for ob_feature in ob_feature_list_1:\n",
    "    Loan_Modules.draw_hist_cat(df = df, arr = ob_feature, change_color = 1)"
   ]
  },
  {
   "cell_type": "markdown",
   "metadata": {},
   "source": [
    "#### zipcode -> zip_freq\n",
    "Convert **zipcode** to **zipcode frequency**"
   ]
  },
  {
   "cell_type": "code",
   "execution_count": 54,
   "metadata": {
    "ExecuteTime": {
     "end_time": "2020-06-29T23:11:21.504972Z",
     "start_time": "2020-06-29T23:11:21.041892Z"
    }
   },
   "outputs": [],
   "source": [
    "df.loc[:, 'zipcode'] = df['zipcode'].apply(lambda x: str(x).replace('xx', ''))"
   ]
  },
  {
   "cell_type": "code",
   "execution_count": 55,
   "metadata": {
    "ExecuteTime": {
     "end_time": "2020-06-29T23:11:23.327288Z",
     "start_time": "2020-06-29T23:11:21.510071Z"
    },
    "scrolled": true
   },
   "outputs": [],
   "source": [
    "zipcode_freq = pd.DataFrame()\n",
    "zipcode_freq['zipcode'] = df.groupby('zipcode').sum()['loanstatus'].index\n",
    "zipcode_freq['cnt'] = df.groupby('zipcode').sum()['loanstatus'].values\n",
    "zipcode_freq['pct'] = (zipcode_freq['cnt']*10000/df[df['loanstatus'] == 1].shape[0]).round(2)"
   ]
  },
  {
   "cell_type": "code",
   "execution_count": 56,
   "metadata": {
    "ExecuteTime": {
     "end_time": "2020-06-29T23:11:29.594805Z",
     "start_time": "2020-06-29T23:11:23.328890Z"
    },
    "scrolled": true
   },
   "outputs": [],
   "source": [
    "df.loc[:, 'zip_freq'] = df.merge(zipcode_freq, on = 'zipcode', how = 'left')['pct']"
   ]
  },
  {
   "cell_type": "code",
   "execution_count": 57,
   "metadata": {
    "ExecuteTime": {
     "end_time": "2020-06-29T23:11:29.617919Z",
     "start_time": "2020-06-29T23:11:29.608464Z"
    },
    "scrolled": true
   },
   "outputs": [],
   "source": [
    "num_feature.append('zip_freq')"
   ]
  },
  {
   "cell_type": "code",
   "execution_count": 58,
   "metadata": {
    "ExecuteTime": {
     "end_time": "2020-06-29T23:11:35.156937Z",
     "start_time": "2020-06-29T23:11:29.623548Z"
    },
    "scrolled": true
   },
   "outputs": [],
   "source": [
    "df = df.merge(zipIncome, left_on = 'zipcode', right_on = 'Zip', how = 'left')"
   ]
  },
  {
   "cell_type": "code",
   "execution_count": 59,
   "metadata": {
    "ExecuteTime": {
     "end_time": "2020-06-29T23:11:36.551351Z",
     "start_time": "2020-06-29T23:11:35.158528Z"
    },
    "scrolled": true
   },
   "outputs": [],
   "source": [
    "df.drop(columns = 'Zip', inplace = True)"
   ]
  },
  {
   "cell_type": "markdown",
   "metadata": {},
   "source": [
    "#### emptitle"
   ]
  },
  {
   "cell_type": "code",
   "execution_count": 60,
   "metadata": {
    "ExecuteTime": {
     "end_time": "2020-06-29T23:11:36.801916Z",
     "start_time": "2020-06-29T23:11:36.552699Z"
    },
    "scrolled": true
   },
   "outputs": [
    {
     "data": {
      "text/plain": [
       "['Administrative Assistant',\n",
       " 'Warehouse employee',\n",
       " 'Teacher',\n",
       " nan,\n",
       " 'Security Guard',\n",
       " 'Ramp Service',\n",
       " 'Administrative Assistant and Book Keeper',\n",
       " 'CLS',\n",
       " 'Lead Technical Writer',\n",
       " 'Supervisor',\n",
       " 'Accountant',\n",
       " 'Rapid ReHousing Case Manager',\n",
       " 'VP of Sales',\n",
       " 'Prod. Tech',\n",
       " 'asst Supr',\n",
       " 'Office Manager',\n",
       " 'Business Intelligence Specialist',\n",
       " 'AV Manager',\n",
       " 'Accounts Payable',\n",
       " 'Sr Cyber Security Analyst',\n",
       " 'Security officer',\n",
       " 'Administrative Assistant/Legal Secretary',\n",
       " 'Chief Executive Officer',\n",
       " 'Fresh',\n",
       " 'finance shared services specialist 2',\n",
       " 'Logistic Specialist',\n",
       " 'Police Officer',\n",
       " 'Sr Support Technical Analyst',\n",
       " 'PSD Team ',\n",
       " 'Consumer mortgage loan processor',\n",
       " 'Service Technician',\n",
       " 'Senior Director of Operations',\n",
       " 'Maintenance',\n",
       " 'Sushi Chef',\n",
       " 'Sales',\n",
       " 'Pricing Analyst',\n",
       " 'Machinist',\n",
       " 'Director',\n",
       " 'Lab technician ',\n",
       " 'Nurse Case Manager',\n",
       " 'Mail Carrier',\n",
       " 'Project Manager',\n",
       " 'Director of Sales & Estimating',\n",
       " 'Controller',\n",
       " 'QA automation tester',\n",
       " 'Maintenance Worker',\n",
       " 'Installer/Shop Metal ',\n",
       " 'Teacher ',\n",
       " 'Professional driver',\n",
       " 'Fleet Specialist',\n",
       " 'Mechanic',\n",
       " 'Carpenter ',\n",
       " 'Wealth advisory assistant',\n",
       " 'Critical Facility Officer',\n",
       " 'train conductor',\n",
       " 'Employment specialist ',\n",
       " 'First Class Petty Ofiicer',\n",
       " 'financial counselor',\n",
       " 'Sales Rep',\n",
       " 'Vice President of Engagement',\n",
       " 'Sales representative ',\n",
       " 'Sergeant First Class',\n",
       " 'Loan processor',\n",
       " 'Food service ',\n",
       " 'Account Manager',\n",
       " 'Director of Marketing',\n",
       " 'Logistics Project Manager',\n",
       " 'Construction crew leader',\n",
       " 'Director Business Development ',\n",
       " 'teacher',\n",
       " 'Account Executive',\n",
       " 'Operator',\n",
       " 'Ultrasound technician ',\n",
       " 'Foreman',\n",
       " 'Director of Operations',\n",
       " 'General Warehouse Associate ',\n",
       " 'Network admin',\n",
       " 'Personal housekeeper ',\n",
       " 'Charge nurse',\n",
       " 'Technical Analyst',\n",
       " 'inventory manager ',\n",
       " 'Tax',\n",
       " 'Technoglist',\n",
       " 'director of transportion',\n",
       " 'Paraprofessional ',\n",
       " 'Driver',\n",
       " 'MANGER',\n",
       " 'Substitute Teacher',\n",
       " 'Property Manager',\n",
       " 'Lead Data Technician',\n",
       " 'owner operator',\n",
       " 'Manager, CUSO Development ',\n",
       " 'Owner',\n",
       " 'Manager',\n",
       " 'account receivable',\n",
       " 'waitress/hostess',\n",
       " 'Graphic Designer',\n",
       " 'Area manager ',\n",
       " 'Deputy City Attorney',\n",
       " 'Associate Attorney ',\n",
       " 'Producer',\n",
       " 'Medical Laboratory Technician',\n",
       " 'Mail Handler Assistand',\n",
       " 'Storeroom supervisor ',\n",
       " 'RSS/Wellness coach',\n",
       " 'Compost Facility Operator',\n",
       " 'CNA',\n",
       " 'Ex.Steward',\n",
       " 'Purchasing Coordinator/Sales',\n",
       " 'Financial Advisor',\n",
       " 'Warehouse worker',\n",
       " 'Associate Director of Online Learning',\n",
       " 'Information Systems Manager',\n",
       " 'machine operator',\n",
       " 'Asst mgr',\n",
       " 'Global VP of Learning',\n",
       " 'Accounts Payable Officer',\n",
       " 'Lead maintenance',\n",
       " 'City carrier',\n",
       " 'HR Director',\n",
       " 'Truck driver',\n",
       " 'supervisor',\n",
       " 'Warehouse member ',\n",
       " 'Quality assurance tester',\n",
       " 'Supervisor ',\n",
       " 'Senior Tax Consultant',\n",
       " 'Application Analyst',\n",
       " 'Branch manager ',\n",
       " 'Security Engineer I',\n",
       " 'Social worker',\n",
       " 'Human Resources',\n",
       " '911 Dispatcher ',\n",
       " 'analyst',\n",
       " 'operations analyst',\n",
       " 'Business Development Manager',\n",
       " 'sales rep',\n",
       " 'Finance Coordinator',\n",
       " 'foreperson',\n",
       " 'Development Director',\n",
       " 'Systems Administrator',\n",
       " 'Financial Management Associate',\n",
       " 'Package Handler',\n",
       " 'Machine Building',\n",
       " 'office manager',\n",
       " 'Payroll',\n",
       " 'Accounting Coordinator',\n",
       " 'CSST',\n",
       " 'Dispatcher',\n",
       " 'Security Officer',\n",
       " 'Material Handler',\n",
       " 'Professional',\n",
       " 'Accounting officer',\n",
       " 'Art Director',\n",
       " 'Purchasing',\n",
       " 'Staff Nurse',\n",
       " 'Managed Care Analyst ',\n",
       " 'Researcher Associate',\n",
       " 'Salesman',\n",
       " 'Customer Service',\n",
       " 'Cashier ',\n",
       " 'Sr Neurology Tech ',\n",
       " 'Shift Working Foreman',\n",
       " 'administrative assistant',\n",
       " 'Laborer',\n",
       " 'Food And Beverage Auditor ',\n",
       " 'Senior Contracts Analyst III',\n",
       " 'Carpenter',\n",
       " 'Senior Software Support Specialist',\n",
       " 'Assistant Store Manager',\n",
       " 'Pharmacist',\n",
       " 'Premium Service Rep',\n",
       " 'problem solver',\n",
       " 'Security Officer ',\n",
       " 'Head of Customer Service',\n",
       " 'OFFICE MANAGER',\n",
       " 'Utility Techinician',\n",
       " 'Sales Manager',\n",
       " 'Senior Manager, R&D',\n",
       " 'EMT',\n",
       " 'PartsExpeditor',\n",
       " 'Department Chair',\n",
       " 'Sales Associate',\n",
       " 'Warehouse Manager',\n",
       " 'Manufarcturing Supervisor',\n",
       " 'Service Technicion ',\n",
       " 'Respiratory Therapist ',\n",
       " 'Developer 4',\n",
       " 'Assistant Manager',\n",
       " 'Director Corporate Purchasing',\n",
       " 'Attorney',\n",
       " 'Faculty',\n",
       " 'Onsite Manager',\n",
       " 'Prodution Line Lead',\n",
       " 'Financial advisor ',\n",
       " 'Cocktail server ',\n",
       " 'Conductor ',\n",
       " 'Import Coordinator ',\n",
       " 'Account Exec',\n",
       " 'Rawle',\n",
       " 'Repo agent',\n",
       " 'LVN',\n",
       " 'Advisor',\n",
       " 'Title Examiner',\n",
       " 'Talent Partner',\n",
       " 'ROUTE DRIVER',\n",
       " 'Vet tech',\n",
       " 'Administrative/Reports Manager',\n",
       " 'Firefighter/Paramedic ',\n",
       " 'Territory Manager ',\n",
       " 'Coach/teacher',\n",
       " 'Manager - Claims',\n",
       " 'Manager, Systems Engineering',\n",
       " 'Technician ',\n",
       " 'Accounts Manager',\n",
       " 'Window Installer ',\n",
       " 'Senior Project Manager',\n",
       " 'Electrician',\n",
       " 'TEACHER',\n",
       " 'Financial services representative 2',\n",
       " 'Labor ',\n",
       " 'Chef manager',\n",
       " 'Contract Manager',\n",
       " 'Chef',\n",
       " 'locomotive engineer',\n",
       " 'Business Insurance Underwriter',\n",
       " 'Pilot ',\n",
       " 'Gunnery Sergeant',\n",
       " 'Television ',\n",
       " 'Associate Director',\n",
       " 'VP, HR Systems and Operations',\n",
       " 'Accounting Analyst ',\n",
       " 'Partner',\n",
       " 'Welder',\n",
       " 'Intake Specialist',\n",
       " 'Registrar III',\n",
       " 'RN',\n",
       " 'Fulfillment Associate',\n",
       " 'Dynamometer Techician',\n",
       " 'Sergeant ',\n",
       " 'Senior software developer III',\n",
       " 'Shareholder',\n",
       " 'Home Equity Loan Processor',\n",
       " 'Commercial Property Manager',\n",
       " 'department manager ',\n",
       " 'Assistant Dean',\n",
       " 'LPN',\n",
       " 'Coffee Roaster',\n",
       " 'Care provider',\n",
       " 'Laboror',\n",
       " 'Audit Officer',\n",
       " 'Union carpenter foreman',\n",
       " 'Service Advisor',\n",
       " 'Rigger',\n",
       " 'medical secretary',\n",
       " 'Consultant',\n",
       " 'VP-Investments',\n",
       " 'Chief Operating Officer',\n",
       " 'Vice President ',\n",
       " 'Letter Carrier',\n",
       " 'Sales Merchandising supervisor',\n",
       " 'Retail Planner',\n",
       " '25N ',\n",
       " 'Educator',\n",
       " 'Air traffic controller',\n",
       " 'Dept Mgr',\n",
       " 'Basketball Coach',\n",
       " 'NETWORK ENGINEER',\n",
       " 'General manager',\n",
       " 'Accounts Payable Coordinator',\n",
       " 'Foreclosure Support Associate 2',\n",
       " 'Field Engineer II',\n",
       " 'Nurse',\n",
       " 'Metal mechanic',\n",
       " 'PCA',\n",
       " 'Caretaker',\n",
       " 'Correction officer',\n",
       " 'Slot machine technician ',\n",
       " 'Private Banking Relationship Manager',\n",
       " 'Adminstrative assistant ',\n",
       " 'Personal Assistant',\n",
       " 'Federal Employee',\n",
       " 'CLAIMS ASSOCIATE',\n",
       " 'LongWall Helper',\n",
       " 'Credit Analyst ',\n",
       " 'Cst, crcst',\n",
       " 'Mortician',\n",
       " 'Lab Manager',\n",
       " 'Warranty Administrator',\n",
       " 'SoC Design Engineer',\n",
       " 'Executive Assistant',\n",
       " 'VP',\n",
       " 'Administrator',\n",
       " 'Customer Service Representative',\n",
       " 'Probation Officer ',\n",
       " 'Paramedic/Firefighter',\n",
       " 'Hr assistant',\n",
       " 'Lead teller operation specialist',\n",
       " 'Shipping & Receiving',\n",
       " 'Information Technology Manager',\n",
       " 'Clinical Oncology Associate',\n",
       " 'Teacher & Coach',\n",
       " 'Global Sr. Marketing Manager',\n",
       " 'HR Administrator',\n",
       " 'Ct Lead Technologist',\n",
       " 'Executive Operations Manager',\n",
       " 'Legal Assistant',\n",
       " 'PROJECT MANAGER',\n",
       " 'Accountant ',\n",
       " 'District Operation Manager',\n",
       " 'Director of Building and Operation',\n",
       " 'taxi driver',\n",
       " 'supervisor sales',\n",
       " 'Maintenance Supervisor ',\n",
       " 'Editorial Director',\n",
       " 'Collection Manager',\n",
       " 'Server',\n",
       " 'Single Family Housing Specialist',\n",
       " 'Warehouse Supervisor',\n",
       " 'Legal Secretary',\n",
       " 'Director of Sales',\n",
       " 'Appraisal Underwriter',\n",
       " 'Librarian',\n",
       " 'Sr Program Manager',\n",
       " 'mechanic',\n",
       " 'General Manager ',\n",
       " 'chef',\n",
       " 'Social Worker',\n",
       " 'Truck Driver',\n",
       " 'bartender',\n",
       " 'Senior Product Development Specialist',\n",
       " 'Crew Leader',\n",
       " 'Senior Associate',\n",
       " 'PTA',\n",
       " 'Payroll Manager',\n",
       " 'Retail Associate',\n",
       " ' Diesel technician ',\n",
       " 'Data Specialist',\n",
       " 'Property Manager ',\n",
       " 'Production Supervisor',\n",
       " 'Nursing assitant ',\n",
       " 'Engineers manager',\n",
       " 'Federal Compliance',\n",
       " 'Town Manager',\n",
       " 'Sales Executive',\n",
       " 'Marketing Coordinator',\n",
       " 'Appraiser',\n",
       " 'dental assistant',\n",
       " 'Installer/service',\n",
       " 'Programmer',\n",
       " 'Occupational therapist',\n",
       " 'Principal',\n",
       " 'SECRETARY',\n",
       " 'department head circulation',\n",
       " 'Real Estate Broker',\n",
       " 'Installer',\n",
       " 'Project Coordinator',\n",
       " 'Truck Driver ',\n",
       " 'Treasury Analyst',\n",
       " 'Psychologist',\n",
       " 'Digital Marketing',\n",
       " 'Senior Android Engineer',\n",
       " 'VCM Specialist',\n",
       " 'Road maintenance worker',\n",
       " 'Nurse Practioner',\n",
       " 'Regional Director of Business Developmen',\n",
       " 'Training Specialist',\n",
       " 'Billing Manager',\n",
       " 'Statistician',\n",
       " 'senior parole agent',\n",
       " 'Administrative Analyst/Specialist',\n",
       " 'Medical assistant',\n",
       " 'Regional Sales Manager',\n",
       " 'Store Manager',\n",
       " 'Analyst',\n",
       " 'truck driver',\n",
       " 'Superintendent',\n",
       " 'Maintenance ',\n",
       " 'Reading Intervention Teacher',\n",
       " 'Mortgage Loan Processor',\n",
       " 'enrollment coordinator',\n",
       " 'Restaurant Manager',\n",
       " 'Nanny',\n",
       " 'Manager, HR Organizational Effectiveness',\n",
       " 'Facilities Project Manager',\n",
       " 'Family Case Worker ',\n",
       " 'Freight handler ',\n",
       " 'Registered Nurse',\n",
       " 'Dental hygienist',\n",
       " 'Compliance Analyst',\n",
       " 'Manager Health Information',\n",
       " 'Front desk',\n",
       " 'Sales Assistant',\n",
       " 'Police Lieutenant',\n",
       " 'Managing Director',\n",
       " 'Program Analyst',\n",
       " 'Software Developer',\n",
       " 'Superintendent ',\n",
       " 'AVP',\n",
       " 'County Court Judge',\n",
       " 'Armed Security Guard',\n",
       " 'Extrusion Operator ',\n",
       " 'Supply Tech',\n",
       " 'Delivery Driver',\n",
       " 'credit/collection',\n",
       " 'Software Engineer',\n",
       " 'Commodity Consultant',\n",
       " 'Lab',\n",
       " 'Machine operator',\n",
       " 'Operator ',\n",
       " 'Skilled Laborer',\n",
       " 'Inventory Specialist',\n",
       " 'RF Design',\n",
       " 'Senior Supply Chain Planner',\n",
       " 'Engineering Technician',\n",
       " 'sr director revenue cycle',\n",
       " 'CCTV operator',\n",
       " 'Marketing Manager ',\n",
       " 'Driver / Service Provider',\n",
       " 'admissions',\n",
       " 'Multi-Machine Specialist II',\n",
       " 'Assistant  Manager',\n",
       " 'Sous chef',\n",
       " 'Senior Center Director ',\n",
       " 'TABLE GAMES SUPERVISOR',\n",
       " 'Police Sergeant',\n",
       " 'Practice Manager',\n",
       " 'Customer service ',\n",
       " 'Patient Educator and Registered Nurse',\n",
       " 'Vice President',\n",
       " 'Technician/Carpenter',\n",
       " 'Engineer/Paramedic ',\n",
       " 'Clinical Director ',\n",
       " 'Lead Tax Accountant',\n",
       " 'CEO',\n",
       " 'Manager Customer Service',\n",
       " 'Quality engineer',\n",
       " 'HVAC Leader ',\n",
       " 'TELLER',\n",
       " 'Branch Manager ',\n",
       " 'Lecturer',\n",
       " 'Administrative Specialist',\n",
       " 'Head Baseball Coach',\n",
       " 'Functional Consultant',\n",
       " 'IT Senior Manager',\n",
       " 'Civil Service',\n",
       " 'Receiving ',\n",
       " 'cook',\n",
       " 'Process Engineer',\n",
       " 'Registered nurse/ CDE',\n",
       " 'Manager of Enterprise Architecture',\n",
       " 'Vice President of Operations',\n",
       " 'Western Region Sales',\n",
       " 'Program Assistant',\n",
       " 'Server/ Intern',\n",
       " 'IVF COORDINATOR',\n",
       " 'Aircraft hydraulic system technician',\n",
       " 'Staff Accountant ',\n",
       " 'Director ',\n",
       " 'Assembly line supervisor ',\n",
       " 'driver',\n",
       " 'Corporate IT Manager',\n",
       " 'Business Administrator',\n",
       " 'General manager ',\n",
       " 'Therapist',\n",
       " 'Secretary',\n",
       " 'Senior Service Coordinator',\n",
       " 'Kitchen staff',\n",
       " 'Teacher/Program Manager',\n",
       " 'MLT',\n",
       " 'Electrican',\n",
       " 'Training technician ',\n",
       " 'Materials Management Project Analyst',\n",
       " 'OPERATOR',\n",
       " 'room attendent',\n",
       " 'Tax Preparere',\n",
       " 'firefighter',\n",
       " 'QA Manager',\n",
       " 'Executive Chef',\n",
       " 'Fullstack Software Developer',\n",
       " 'Paralegal',\n",
       " 'Chief Accounting Officer',\n",
       " 'executive sales manager',\n",
       " 'Project Manager ',\n",
       " 'Facilities Manager',\n",
       " 'Surgical Tech OB',\n",
       " 'Service Manager',\n",
       " 'Correctional Case Manager',\n",
       " 'Director Strategic Initiatives',\n",
       " 'Management and Program assistant ',\n",
       " 'Patient Care Coordinator',\n",
       " 'Route Sales',\n",
       " 'District Manager ',\n",
       " 'Operations Manager',\n",
       " 'District Executive',\n",
       " 'booking agent ',\n",
       " 'Sales coordinator',\n",
       " 'Systems engineer',\n",
       " 'Mutual fund representative ',\n",
       " 'Opt tech',\n",
       " 'financial lender',\n",
       " 'Director of Admissions',\n",
       " 'CONSUMER LOAN UNDERWRITER',\n",
       " 'assistant site manager',\n",
       " 'Musician',\n",
       " 'Budget Manager',\n",
       " 'Senior Recruiter',\n",
       " 'Physicians Assistant',\n",
       " 'Billing Admin',\n",
       " 'Apartment Manager',\n",
       " 'Project Manager I',\n",
       " 'warehouse manager',\n",
       " 'Insurance Agent',\n",
       " 'field supervisor',\n",
       " 'PLUMBER',\n",
       " 'RADIOLOGY TEHNOLOGIST',\n",
       " 'Purchasing Manager',\n",
       " 'Deputy Sheriff',\n",
       " 'Director of Nursing RN',\n",
       " 'Assistant manager',\n",
       " 'Associate Project Manager ',\n",
       " 'Sr Sales Manager',\n",
       " 'MSI ',\n",
       " 'Snr Software Engineer',\n",
       " 'Sales supervisor',\n",
       " 'Sales manager ',\n",
       " 'Registerd Physical Theripaist',\n",
       " 'Lead carpenter',\n",
       " 'Human Resource Director',\n",
       " 'Desktop support specialist ',\n",
       " 'CBP Officer',\n",
       " 'Medical Technologist',\n",
       " 'Senior Accounant',\n",
       " 'ATTORNEY',\n",
       " 'Operations Security Analyst',\n",
       " 'Compliance Officer',\n",
       " 'Signal Maintainer',\n",
       " 'certified surgical assistant',\n",
       " 'tooling specialist',\n",
       " 'field rep',\n",
       " 'Specialist',\n",
       " 'Courrier',\n",
       " 'Senior Computer Programmer',\n",
       " 'Machine Technician',\n",
       " 'Investigator',\n",
       " 'Admissions Advisor',\n",
       " 'Military Special Agent',\n",
       " 'COO Admin',\n",
       " 'Lender',\n",
       " 'Quality analyst ',\n",
       " 'Detention Officer',\n",
       " 'Mechanic Technician',\n",
       " 'master tech',\n",
       " 'Regional HR Manager',\n",
       " 'Upholster',\n",
       " 'Senior Administrative Assistant',\n",
       " 'Warehouse Assistant ',\n",
       " 'Journeymen Electrician ',\n",
       " 'Personal Banker',\n",
       " 'Tech',\n",
       " 'Senior analyst',\n",
       " 'IA',\n",
       " 'Reporting Analyst',\n",
       " 'Realtor',\n",
       " 'Collector ',\n",
       " 'Field technician',\n",
       " 'Management',\n",
       " 'Custodian',\n",
       " 'Sr Claims Specialist',\n",
       " 'Insurance Underwriter',\n",
       " 'Admin',\n",
       " 'glazier',\n",
       " 'BRANCH MANAGER',\n",
       " 'Clinical director ',\n",
       " 'Operation Generalist',\n",
       " 'manager',\n",
       " 'Engineer',\n",
       " 'Machinist mate',\n",
       " 'Lab Technician ',\n",
       " 'Senior National Account Executive',\n",
       " 'C B SERVICE ASSURANCE SUPERVISOR',\n",
       " 'Information Technology Specialist',\n",
       " 'Lead CT technologist ',\n",
       " 'Counselor',\n",
       " 'Clerk ',\n",
       " 'Medical assistant with x-ray',\n",
       " 'sales',\n",
       " 'Equipment Operator',\n",
       " 'Participations Coordinator ',\n",
       " 'Senior Consultant',\n",
       " 'Senior Java Developer',\n",
       " 'Research Coordinator',\n",
       " 'Sr Database  Admin',\n",
       " 'Assistant Showroom Manager',\n",
       " 'Program Manager',\n",
       " 'Bank protection officer',\n",
       " 'Chief Operating Officer - Chemistry',\n",
       " 'Accounting Manafet',\n",
       " 'Paint Supervisor',\n",
       " 'Care giver ',\n",
       " 'Paralegal ',\n",
       " 'Systems Analyst Level 3',\n",
       " 'Administrative',\n",
       " 'Relationship Banker',\n",
       " 'Maintenance Supervisor',\n",
       " 'Insulator ',\n",
       " 'Assistant Branch Manager',\n",
       " 'Supplies Buyer',\n",
       " 'Relationship banker',\n",
       " 'Technician',\n",
       " 'District Manager',\n",
       " 'sales manager',\n",
       " 'foreman',\n",
       " 'EC Teacher Assistant',\n",
       " 'Shipping and Receiving',\n",
       " 'Bus manager/safety and training',\n",
       " 'TMS Specialist',\n",
       " 'Dock Worker',\n",
       " 'Termite manager ',\n",
       " 'Senior Financial Analyst',\n",
       " 'Assembly ',\n",
       " 'Tech 2',\n",
       " 'Data Engineer',\n",
       " 'Safety Driver Trainer',\n",
       " 'Construction Manager',\n",
       " 'Controls technician',\n",
       " 'K-3 Teacher',\n",
       " 'OFFICE ADMINISTRATOR',\n",
       " 'STORE MANAGER',\n",
       " 'Branch Retail Exec. IV (Branch Manager)',\n",
       " 'Pilot',\n",
       " 'Wast Water Engineer ',\n",
       " 'Patrol Lieutenant',\n",
       " 'Nurse Coordinator ',\n",
       " 'director of community engage math',\n",
       " 'operations manager ',\n",
       " 'Lead Controls Technician',\n",
       " 'Slab Manager',\n",
       " 'Slickline Operator',\n",
       " 'Delivery/Sales',\n",
       " 'Clinical Lab Scientist',\n",
       " 'Installer III',\n",
       " 'Patient Registrar ',\n",
       " 'Clinical Nurse Educator',\n",
       " 'Math Teacher',\n",
       " 'Firefighter',\n",
       " 'Director IT Vendor Management Office',\n",
       " 'Fire Safety Specialist',\n",
       " 'Gardener',\n",
       " 'Director of external operations ',\n",
       " 'Chemical operator ',\n",
       " 'staff rn',\n",
       " 'Office coordinator ',\n",
       " 'Grocery Warehouse Supervisor',\n",
       " 'Fundraising',\n",
       " 'Business Analyst',\n",
       " 'Spa Manager',\n",
       " 'Unmanned Aircraft Operator',\n",
       " 'Billing Director ',\n",
       " 'HRIS analyst',\n",
       " 'Branch Executive Director',\n",
       " 'Correctional Officer',\n",
       " 'Director of nursing',\n",
       " 'Care manager',\n",
       " 'accounting',\n",
       " 'Corporate collections',\n",
       " 'Special Agent',\n",
       " 'HR Manager',\n",
       " 'IT Manager ',\n",
       " 'reciever',\n",
       " 'Area Manager',\n",
       " 'Asset Superintendent',\n",
       " 'Support Manager',\n",
       " 'Customer Service Specialist ',\n",
       " 'Facilities Security Officeer',\n",
       " 'Finishing technicisn',\n",
       " 'Janitor',\n",
       " 'Executive Resolution Consultant',\n",
       " 'Road Driver',\n",
       " 'Federal Officer',\n",
       " 'Aviation Ordnanceman',\n",
       " 'Housekeeping Officer',\n",
       " 'QC Inspector',\n",
       " 'Wfm analyst',\n",
       " 'Medical biller',\n",
       " 'Customer Service Supervisor',\n",
       " 'Front office Manager',\n",
       " 'Fraud Analyst',\n",
       " 'R.N.',\n",
       " 'Audio Engineer',\n",
       " 'Clerk V',\n",
       " 'Field technician ',\n",
       " 'Benefits Analyst',\n",
       " 'AIR EXPORTATION COORDINATOR',\n",
       " 'Member Services Representative',\n",
       " 'Instructional Coach',\n",
       " 'Administrative assistant ',\n",
       " 'Service technician ',\n",
       " 'Senior librarian ',\n",
       " 'Investment Broker',\n",
       " 'Training Instructor ',\n",
       " 'Executive Office Associate',\n",
       " 'Produce clerk',\n",
       " 'Staging Associate',\n",
       " 'Front Desk Coordinator',\n",
       " 'Business development Rep',\n",
       " 'BIOMEDICAL  TECHNICIAN  ',\n",
       " 'Labor and Employee Relations Speciaist',\n",
       " 'Interior designer ',\n",
       " 'Operation Asst. Manager',\n",
       " 'border patrol agent',\n",
       " 'Client Experience Ambassador',\n",
       " 'Floating FSR',\n",
       " 'Loader',\n",
       " 'Executive Director',\n",
       " 'Travel Agent',\n",
       " 'Production Associate',\n",
       " 'Auditor',\n",
       " 'Deputy',\n",
       " 'Coach Operator',\n",
       " 'Clinical Reimbursement Coordinator',\n",
       " 'Foreman ',\n",
       " 'Anti Money Laundering',\n",
       " 'Engagement Manager',\n",
       " 'Post Closing Supervisor',\n",
       " 'Tech Support Specialist II',\n",
       " 'Local Manager I&M',\n",
       " 'Facility Maintenance Forman',\n",
       " 'Lead Receptionist',\n",
       " 'Branch Manager-Kentucky Department of VA',\n",
       " 'Software developer',\n",
       " 'Operational Service Manager',\n",
       " 'Journeyman Lineman ',\n",
       " 'Sales associate/educator',\n",
       " 'Inspiring Places Coordinator',\n",
       " 'Sr. Customer Service',\n",
       " 'Supply Chain Planning Lead',\n",
       " 'Head of Private Wealth Division',\n",
       " 'Security and LE dispatch',\n",
       " 'Maintenance supervisor ',\n",
       " 'Field Service ',\n",
       " 'Office Clerk',\n",
       " 'Care coordinator ',\n",
       " 'Project Superintendent ',\n",
       " 'Maintenant',\n",
       " 'Manager-Installer',\n",
       " 'Chairwoman',\n",
       " 'Emcee',\n",
       " 'Financial Center Manager AVP',\n",
       " 'Service manager ',\n",
       " 'Patient Financial Counselor ',\n",
       " 'Bus Operator',\n",
       " 'Mecanico ',\n",
       " 'VP, BSA/AML Testing Manager',\n",
       " 'Teacher-Instructional Coach',\n",
       " 'Journeyman',\n",
       " 'assembler',\n",
       " 'Facilities Maintenance Technician ',\n",
       " 'Sales Leader',\n",
       " 'IT Analyst',\n",
       " 'Miner',\n",
       " 'Bell Captain',\n",
       " 'Physician',\n",
       " 'Financial Analyst',\n",
       " 'Concierge',\n",
       " 'Owner/operator ',\n",
       " 'SMS Management Coordinator',\n",
       " 'Consumer loan specialist',\n",
       " 'Engineering Lead Test 3',\n",
       " 'Field Technician',\n",
       " 'Care Coordination Manager',\n",
       " 'Plant controller',\n",
       " 'UX Design Manager',\n",
       " 'system admin',\n",
       " 'Team member production',\n",
       " 'Assembler/Packer',\n",
       " 'Customer Success Engineer',\n",
       " 'Finance Manager',\n",
       " 'Executive  Chef',\n",
       " 'Director of Facilities ',\n",
       " 'Registered Nurse, CF',\n",
       " 'Dental assistant ',\n",
       " 'HR Assistance ',\n",
       " 'Director of Admissions ',\n",
       " 'Commissioner',\n",
       " 'Major account manager',\n",
       " 'maintenance tech',\n",
       " 'Integrator III',\n",
       " 'Manager of Business Process',\n",
       " 'clerk  ',\n",
       " 'Quality Manager',\n",
       " 'SERVICE TECHNICIAN',\n",
       " 'Rural Mail Carrier',\n",
       " 'Chief of Maintenance',\n",
       " 'Community outreach ',\n",
       " 'FRENCH TEACHING ASSISTANT ',\n",
       " 'Front Desk/ Patient Care Mgr',\n",
       " 'Spinner',\n",
       " 'Insurance Verification Representative',\n",
       " 'EMS coordinator',\n",
       " 'Administrative Support Assistant',\n",
       " 'Risk Management Specialist',\n",
       " 'Sr. buyer',\n",
       " 'Installer ',\n",
       " 'drilling operations',\n",
       " 'Dialysis Nurse Manager',\n",
       " 'corp truck driver',\n",
       " 'Shop manager',\n",
       " 'Academic Department Assistant',\n",
       " 'Information Architect',\n",
       " 'Financial Assistant',\n",
       " 'Staff  Nurse',\n",
       " 'Enterprise Account Mgr.',\n",
       " 'Cardiac Sonographer',\n",
       " 'Mens Design Director',\n",
       " 'HVAC tech ',\n",
       " 'Room Service Server',\n",
       " 'heavy equipment mechanic',\n",
       " 'Broker',\n",
       " 'Inspector',\n",
       " 'Team lead ',\n",
       " 'Insurance Manager',\n",
       " 'CSS II',\n",
       " 'Funding Manager',\n",
       " 'software engineer',\n",
       " 'Cook',\n",
       " 'Sustainability and Risk Management Lead',\n",
       " 'bus driver',\n",
       " 'Contract Modeler',\n",
       " 'Shop Manager',\n",
       " 'Transaction Coordinator',\n",
       " 'Graduate Research Assistant',\n",
       " 'Recruiting Sr Manager',\n",
       " 'Business Data Specialist EDM',\n",
       " '2nd Grade Teacher',\n",
       " 'Home health Aide',\n",
       " 'professor',\n",
       " 'Customer Service Agent',\n",
       " 'Bottling Maintenance manager',\n",
       " 'Chief Compliance Officer',\n",
       " 'IMMIGRATION SERVICES OFFICER',\n",
       " 'Retention account manager',\n",
       " 'Eligibility Specialist',\n",
       " 'Business Systems Analyst',\n",
       " 'Assistant manager ',\n",
       " 'Senior Solution Manager',\n",
       " 'Hvac mechsnic',\n",
       " 'Teller',\n",
       " 'customer service representative',\n",
       " 'Delivery Driver ',\n",
       " 'Heavy equipment Operator',\n",
       " 'Machine Operator ',\n",
       " 'forklift operator',\n",
       " 'Adminstrative',\n",
       " 'Banker ',\n",
       " 'Warehouse assoicate',\n",
       " 'Department Superviser/Key Carrier',\n",
       " 'Project manager',\n",
       " 'Finance Director',\n",
       " 'Officer',\n",
       " 'MANAGER',\n",
       " 'Maintenance Tech',\n",
       " 'Machine Builder',\n",
       " 'Support Specialist',\n",
       " 'Heavy equipment operator ',\n",
       " 'Marketing Director',\n",
       " 'Director of Branch Management ',\n",
       " 'Maintenance tech',\n",
       " 'Examiner',\n",
       " 'Mechanical Designer ',\n",
       " 'Care Coordinator ',\n",
       " 'Production ',\n",
       " 'Title Officer',\n",
       " 'Mill Operator',\n",
       " 'Finance',\n",
       " 'flight attendant',\n",
       " 'BUILDING MAINTENANCE',\n",
       " 'Director of Employee Relations',\n",
       " 'Generator Technician',\n",
       " 'QA supervisor ',\n",
       " 'Global Client Services Manager',\n",
       " 'Plumber',\n",
       " 'Staffer',\n",
       " 'Senior Media Operator',\n",
       " 'Assistant Underwriter & Mtg. Svcs. Spec.',\n",
       " 'Law Enforcement',\n",
       " 'Network Relations Consult',\n",
       " 'Merchandise Sales Assistant',\n",
       " 'Quality Control Chemist',\n",
       " 'eDiscovery Support Specialist',\n",
       " 'Manager of Bus Schedules',\n",
       " 'Professor ',\n",
       " 'Active Duty',\n",
       " 'BDC Service representative ',\n",
       " 'Lead Technical Analyst',\n",
       " 'Lead Estimator',\n",
       " 'Records Supervisor ',\n",
       " 'Campus Manager',\n",
       " 'dental hygienist',\n",
       " 'QA Analyst',\n",
       " 'Estimator',\n",
       " 'VP Sr. Relationship Manager',\n",
       " 'Logistics Chief',\n",
       " 'New construction billing',\n",
       " 'research scientist',\n",
       " 'Casualty claims adjuster',\n",
       " 'Job Captain',\n",
       " 'Technical Writer',\n",
       " 'Sr Claims Analyst',\n",
       " 'customer service',\n",
       " 'Laundry senior worker ',\n",
       " 'Logistics Coordinator',\n",
       " 'Sales support II',\n",
       " 'Senior Buyer',\n",
       " 'Finance MGR',\n",
       " 'Bookkeeper',\n",
       " 'Chemical Operator',\n",
       " 'Firefighter ',\n",
       " 'Executive Prodcuer',\n",
       " 'Talent Acquisition ',\n",
       " 'Mental health tech',\n",
       " 'Billing Specialist',\n",
       " 'Lab Assistant',\n",
       " 'Sales Specialist',\n",
       " 'Patent Attorney Manager',\n",
       " 'Rn',\n",
       " 'Supervisor Of Training Security',\n",
       " 'Optimization Engineer',\n",
       " 'Corporate Manager',\n",
       " 'Underwriter',\n",
       " 'ASE Master Certified Automotive Tech ',\n",
       " 'Accounting Clerk',\n",
       " 'Support Officer',\n",
       " 'LEAD FOREMAN ',\n",
       " 'Department Manager',\n",
       " 'Petrochem welder',\n",
       " 'area suppervisor',\n",
       " 'ADC',\n",
       " 'Banquet Server',\n",
       " 'Customer Service Analyst',\n",
       " 'Physician Assistant',\n",
       " 'Packaging',\n",
       " 'Food Manager',\n",
       " 'Senior Engineering Technician ',\n",
       " 'Vacuum driver ',\n",
       " 'Surgical Tech',\n",
       " 'Lead',\n",
       " 'Pipefitter',\n",
       " 'Paraeducator',\n",
       " 'Construction laborer',\n",
       " 'Rig Manager',\n",
       " 'Executive Assistant to CEO',\n",
       " 'Registrar',\n",
       " 'Operations manager',\n",
       " 'SR Human Resource Manager',\n",
       " 'Flight Attendant',\n",
       " 'Scheduling supervisor',\n",
       " 'In Home Aide',\n",
       " 'Customer Service Rep',\n",
       " 'Sales Support Specialist',\n",
       " 'Parts Department Manager',\n",
       " 'Trainer and Interpreter ',\n",
       " 'bailiff',\n",
       " 'Professional cleaner',\n",
       " 'Project Estimator',\n",
       " 'Admin Assistant/Office Manager',\n",
       " 'Office Clerck',\n",
       " 'director of nursing',\n",
       " ' Ops Supervisor ',\n",
       " 'PST',\n",
       " 'Senior Writer',\n",
       " 'superviser ',\n",
       " 'parts sales',\n",
       " 'Day Porter ',\n",
       " 'Customer service',\n",
       " 'Dealer Trader',\n",
       " 'Clinical Analyst',\n",
       " 'Bus operator ',\n",
       " 'Manager ',\n",
       " 'Director/Technical Director ',\n",
       " 'Naval Flight Officer',\n",
       " 'Editor',\n",
       " 'Registered nurse',\n",
       " 'Facilities Supervisor ',\n",
       " 'speech therapist',\n",
       " 'Senior Instructional Designer',\n",
       " 'SVP, Americas',\n",
       " 'Business Development',\n",
       " 'Branch Manager',\n",
       " 'design director',\n",
       " 'Contractor - Project Manager ',\n",
       " 'Planning Manager',\n",
       " 'Legal Admin Specialist ',\n",
       " 'Operations Manager ',\n",
       " 'Customer Advisor IV ',\n",
       " 'Care Giver',\n",
       " 'Fleet Service Crew Chief',\n",
       " 'Support Services',\n",
       " 'Freight Clerk',\n",
       " 'Science Teacher',\n",
       " 'Kitchen manager',\n",
       " ...]"
      ]
     },
     "execution_count": 60,
     "metadata": {},
     "output_type": "execute_result"
    }
   ],
   "source": [
    "df['emptitle'].unique().tolist()"
   ]
  },
  {
   "cell_type": "code",
   "execution_count": 61,
   "metadata": {
    "ExecuteTime": {
     "end_time": "2020-06-29T23:11:38.359693Z",
     "start_time": "2020-06-29T23:11:36.803836Z"
    },
    "scrolled": false
   },
   "outputs": [],
   "source": [
    "df.loc[~df['emptitle'].isnull(), 'emptitle_has'] = 1\n",
    "df.loc[df['emptitle'].isnull(), 'emptitle_has'] = 0"
   ]
  },
  {
   "cell_type": "markdown",
   "metadata": {},
   "source": [
    "#### further process emptitle\n",
    "- Handwritten employment titles with typos. \n",
    "- Tested using TextBlob to correct typos but it did not acheive good performance (takes a long time and changed the correct spelling to a wrong one in many instances) \n",
    "- Instead, I performed rough manually processing here <br>\n",
    "    - Combine some emptitle into more general ones <br>\n",
    "    - For emptitle with many occurences, combine to minimize occurences with misspellings\n",
    "    - Calculate per emptitle avg. charged-off rate by dividing the number of charge offs with the total occurence of the emptitle <br>\n",
    "    - Create new feature **emptitle_chargeoff_pct** based on per emptitle avg. charged-off rate"
   ]
  },
  {
   "cell_type": "code",
   "execution_count": 62,
   "metadata": {
    "ExecuteTime": {
     "end_time": "2020-06-29T23:11:38.400899Z",
     "start_time": "2020-06-29T23:11:38.391319Z"
    },
    "scrolled": true
   },
   "outputs": [],
   "source": [
    "# df.loc[:,'emptitle_clean'] = df['emptitle'].apply(lambda x: str(x))\n",
    "# df['emptitle'].apply(lambda x: str(TextBlob(x).correct()))"
   ]
  },
  {
   "cell_type": "code",
   "execution_count": 63,
   "metadata": {
    "ExecuteTime": {
     "end_time": "2020-06-29T23:11:41.871960Z",
     "start_time": "2020-06-29T23:11:38.407272Z"
    }
   },
   "outputs": [],
   "source": [
    "# title_list = df['emptitle'].apply(lambda x: str(x).split())\n",
    "df.loc[:, 'emptitle_2'] = df['emptitle'].apply(lambda x: str(x).lower())\n",
    "regex = re.compile('[^a-zA-Z]')\n",
    "df.loc[:, 'emptitle_2'] = df['emptitle_2'].apply(lambda x: regex.sub('nan', str(x)))\n",
    "# df.loc[:, 'emptitle_2'] = df['emptitle_2'].apply(lambda x: regex.sub('nan', x))"
   ]
  },
  {
   "cell_type": "code",
   "execution_count": 64,
   "metadata": {
    "ExecuteTime": {
     "end_time": "2020-06-29T23:11:41.881947Z",
     "start_time": "2020-06-29T23:11:41.875309Z"
    }
   },
   "outputs": [],
   "source": [
    "def process_emptitle(df, feature_column, new_emptitle, expression):\n",
    "    regex = '[a-z]*' + expression + '[a-z]*'\n",
    "    df.loc[:, feature_column] = df[feature_column].apply(lambda x: new_emptitle if re.match(regex, x) else x)"
   ]
  },
  {
   "cell_type": "code",
   "execution_count": 65,
   "metadata": {
    "ExecuteTime": {
     "end_time": "2020-06-29T23:11:41.894396Z",
     "start_time": "2020-06-29T23:11:41.884417Z"
    }
   },
   "outputs": [],
   "source": [
    "emptitle_dict = {\n",
    "    'creative': ['desi', 'creat', 'art', 'graph', 'musi', 'paint'], \n",
    "    'accountant': ['ac[a-z]*nt', 'ac[a-z]*tion', 'cpa', 'fin', 'tax', 'audit', 'assur', 'treasur', 'bank'],\n",
    "    'manager': ['lead', 'm[a-z]*g', 'direc', 'sup[a-z]*vi', 'boss'],\n",
    "    'executive': ['exe', 'cutive', 'chair', 'board', 'presid', 'ceo', 'coo', 'cto', 'cfo', 'cio', 'cmo', 'chief', 'vp'],\n",
    "    'engineer': ['dev', 'e[a-z]*g[a-z]*r', 'coding', 'program', 'software', 'ux'],\n",
    "    'technician': ['work', 'ian', 'cian', 'ican', 'can', 'tec', 'ele', 'ma[a-z]*ch', 'ma[a-z]*t', 'repair'],\n",
    "    'health': ['hea[a-z]*th', 'pharm', 'med', 'nur', 'radio', 'cardio', 'doct'],\n",
    "    'education': ['princi', 'dean', 'facul', 'schoo', 'acade', 'educ', 'teach'],\n",
    "    'home': ['hous', 'home', 'wife'],\n",
    "    'care': ['care', 'nanny', 'aid'],\n",
    "    'military': ['marine', 'militar', 's[a-z]*arg', 'navy', 'arm', 'marsh'],\n",
    "    'police': ['poli', 'li[a-z]*t[a-z]*n[a-z]*nt', 'deput', 'sheri'],\n",
    "    'business': ['merch', 'bus', 'eco'],\n",
    "    'entrepre': ['ent[a-z]*p', 'own', 'found'],\n",
    "    'liason': ['lia', 'leai'],\n",
    "    'agent': ['agen'],\n",
    "    'architect': ['arch'],\n",
    "    'operations': ['o[a-z]*era'],\n",
    "    'admin': ['adm'],\n",
    "    'partner': ['part'],\n",
    "    'sales': ['sale'],\n",
    "    'profession': ['prof'],\n",
    "    'specialty': ['specia'],\n",
    "    'secretary': ['secr'],\n",
    "    'control': ['contr'],\n",
    "    'department': ['depar'],\n",
    "    'employee': ['emplo'],\n",
    "    'analyst': ['assi', 'asso', 'ana[a-z]*l', 'consul'],\n",
    "    'craftsman': ['man', 'ship', 'wood', 'carp', 'craft'],\n",
    "    'worker': ['jani', 'wrap', 'writ', 'o[a-z]*ffi', 'mem', 'wait', 'train', 'pack', 'process', 'rece', 'recie', \n",
    "               'prod', 'pay', 'assem', 'bar', 'land', 'collec', 'driv', 'truck', 'load', 'ware']\n",
    "}"
   ]
  },
  {
   "cell_type": "code",
   "execution_count": 66,
   "metadata": {
    "ExecuteTime": {
     "end_time": "2020-06-29T23:13:44.136993Z",
     "start_time": "2020-06-29T23:11:41.896182Z"
    },
    "scrolled": true
   },
   "outputs": [],
   "source": [
    "feature_column = 'emptitle_2'\n",
    "for key, value in emptitle_dict.items():\n",
    "    new_emptitle = key\n",
    "    expression_lst = value\n",
    "    for e in expression_lst:\n",
    "        process_emptitle(df, feature_column, new_emptitle, e)"
   ]
  },
  {
   "cell_type": "code",
   "execution_count": 67,
   "metadata": {
    "ExecuteTime": {
     "end_time": "2020-06-29T23:13:46.438049Z",
     "start_time": "2020-06-29T23:13:44.138468Z"
    }
   },
   "outputs": [],
   "source": [
    "emptitle = pd.DataFrame()\n",
    "emptitle['emptitle_2'] = df.groupby('emptitle_2').sum()['loanstatus'].index\n",
    "emptitle['cnt_chargedoff'] = df.groupby('emptitle_2').sum()['loanstatus'].values\n",
    "emptitle['cnt_total'] = df.groupby('emptitle_2').size().values\n",
    "emptitle['emptitle_chargeoff_pct'] = emptitle['cnt_chargedoff'] *100/ emptitle['cnt_total']"
   ]
  },
  {
   "cell_type": "code",
   "execution_count": 68,
   "metadata": {
    "ExecuteTime": {
     "end_time": "2020-06-29T23:13:46.578582Z",
     "start_time": "2020-06-29T23:13:46.444774Z"
    },
    "scrolled": true
   },
   "outputs": [],
   "source": [
    "df.loc[df['emptitle_2']== '', 'emptitle_2'] = 'nan'\n",
    "emptitle.loc[emptitle['emptitle_2']== '', 'emptitle_2'] = 'nan'"
   ]
  },
  {
   "cell_type": "code",
   "execution_count": 69,
   "metadata": {
    "ExecuteTime": {
     "end_time": "2020-06-29T23:13:46.594338Z",
     "start_time": "2020-06-29T23:13:46.582225Z"
    }
   },
   "outputs": [
    {
     "name": "stdout",
     "output_type": "stream",
     "text": [
      "avg chargeoff_pct without emptitle:  6.449937296186774\n"
     ]
    }
   ],
   "source": [
    "nan_avg = emptitle[emptitle['emptitle_chargeoff_pct'] < 100.00]['emptitle_chargeoff_pct'].mean()\n",
    "print('avg chargeoff_pct without emptitle: ', nan_avg)"
   ]
  },
  {
   "cell_type": "code",
   "execution_count": 70,
   "metadata": {
    "ExecuteTime": {
     "end_time": "2020-06-29T23:13:46.605167Z",
     "start_time": "2020-06-29T23:13:46.596364Z"
    }
   },
   "outputs": [],
   "source": [
    "emptitle.loc[emptitle['cnt_total'] < 3, 'emptitle_chargeoff_pct'] = nan_avg"
   ]
  },
  {
   "cell_type": "markdown",
   "metadata": {},
   "source": [
    "Merge **df** with **emptitle**"
   ]
  },
  {
   "cell_type": "code",
   "execution_count": 71,
   "metadata": {
    "ExecuteTime": {
     "end_time": "2020-06-29T23:13:52.812411Z",
     "start_time": "2020-06-29T23:13:46.606883Z"
    },
    "scrolled": false
   },
   "outputs": [],
   "source": [
    "df = df.merge(emptitle, on = 'emptitle_2', how = 'left')"
   ]
  },
  {
   "cell_type": "markdown",
   "metadata": {},
   "source": [
    "Add **emptitle_chargeoff_pct** to numeric features"
   ]
  },
  {
   "cell_type": "code",
   "execution_count": 72,
   "metadata": {
    "ExecuteTime": {
     "end_time": "2020-06-29T23:13:52.817894Z",
     "start_time": "2020-06-29T23:13:52.814155Z"
    }
   },
   "outputs": [],
   "source": [
    "num_feature.append('emptitle_chargeoff_pct')"
   ]
  },
  {
   "cell_type": "markdown",
   "metadata": {},
   "source": [
    "#### earliestcrline and issued to dates"
   ]
  },
  {
   "cell_type": "code",
   "execution_count": 73,
   "metadata": {
    "ExecuteTime": {
     "end_time": "2020-06-29T23:15:14.716522Z",
     "start_time": "2020-06-29T23:13:52.819774Z"
    }
   },
   "outputs": [],
   "source": [
    "df.loc[:, 'earliestcrline'] = pd.to_datetime(df['earliestcrline'])\n",
    "df.loc[:, 'issued'] = pd.to_datetime(df['issued'])\n",
    "df.loc[:, 'earliestcrline'] = df.loc[:, 'earliestcrline'].apply(lambda x: str(x)[:10])\n",
    "df.loc[~df['issued'].isnull(), 'issued'] = df.loc[~df['issued'].isnull(), 'issued'].apply(lambda x: str(x)[:10])\n",
    "df.loc[df['issued'].isnull(), 'issued'] = '2020-03-01'"
   ]
  },
  {
   "cell_type": "code",
   "execution_count": 74,
   "metadata": {
    "ExecuteTime": {
     "end_time": "2020-06-29T23:15:29.554826Z",
     "start_time": "2020-06-29T23:15:14.718468Z"
    }
   },
   "outputs": [],
   "source": [
    "from datetime import datetime\n",
    "date_format = '%Y-%m-%d'\n",
    "df.loc[:, 'earliestcrline'] = df.loc[:, 'earliestcrline'].apply(lambda x: datetime.strptime(str(x), date_format))\n",
    "df.loc[:, 'issued'] = df.loc[:, 'issued'].apply(lambda x: (datetime.strptime(str(x), date_format)))"
   ]
  },
  {
   "cell_type": "code",
   "execution_count": 75,
   "metadata": {
    "ExecuteTime": {
     "end_time": "2020-06-29T23:15:35.906392Z",
     "start_time": "2020-06-29T23:15:29.556440Z"
    },
    "scrolled": true
   },
   "outputs": [],
   "source": [
    "df.loc[:, 'diff_crline_issue'] = df.loc[:, 'issued'] - df.loc[:, 'earliestcrline']\n",
    "df.loc[:, 'diff_crline_issue'] = df['diff_crline_issue'].apply(lambda x: x.days)"
   ]
  },
  {
   "cell_type": "code",
   "execution_count": 76,
   "metadata": {
    "ExecuteTime": {
     "end_time": "2020-06-29T23:15:35.912698Z",
     "start_time": "2020-06-29T23:15:35.908023Z"
    }
   },
   "outputs": [],
   "source": [
    "mortgage_rate_monthly['Time'] = pd.to_datetime(mortgage_rate_monthly['Time'])"
   ]
  },
  {
   "cell_type": "code",
   "execution_count": 77,
   "metadata": {
    "ExecuteTime": {
     "end_time": "2020-06-29T23:15:35.921553Z",
     "start_time": "2020-06-29T23:15:35.915061Z"
    },
    "scrolled": true
   },
   "outputs": [
    {
     "data": {
      "text/plain": [
       "0   2019-12-01\n",
       "1   2019-11-01\n",
       "2   2019-10-01\n",
       "3   2019-09-01\n",
       "4   2019-08-01\n",
       "Name: Time, dtype: datetime64[ns]"
      ]
     },
     "execution_count": 77,
     "metadata": {},
     "output_type": "execute_result"
    }
   ],
   "source": [
    "mortgage_rate_monthly['Time'].head()"
   ]
  },
  {
   "cell_type": "code",
   "execution_count": 78,
   "metadata": {
    "ExecuteTime": {
     "end_time": "2020-06-29T23:15:35.931378Z",
     "start_time": "2020-06-29T23:15:35.924072Z"
    }
   },
   "outputs": [
    {
     "data": {
      "text/plain": [
       "0   2019-03-01\n",
       "1   2019-03-01\n",
       "2   2019-03-01\n",
       "3   2019-03-01\n",
       "4   2019-03-01\n",
       "Name: issued, dtype: datetime64[ns]"
      ]
     },
     "execution_count": 78,
     "metadata": {},
     "output_type": "execute_result"
    }
   ],
   "source": [
    "df['issued'].head()"
   ]
  },
  {
   "cell_type": "code",
   "execution_count": 79,
   "metadata": {
    "ExecuteTime": {
     "end_time": "2020-06-29T23:15:43.162491Z",
     "start_time": "2020-06-29T23:15:35.933309Z"
    }
   },
   "outputs": [],
   "source": [
    "df = pd.merge(df, mortgage_rate_monthly, left_on = 'issued', right_on = 'Time', how = 'left')"
   ]
  },
  {
   "cell_type": "code",
   "execution_count": 80,
   "metadata": {
    "ExecuteTime": {
     "end_time": "2020-06-29T23:15:44.749823Z",
     "start_time": "2020-06-29T23:15:43.163855Z"
    }
   },
   "outputs": [],
   "source": [
    "df.drop(columns = 'Time', inplace = True)"
   ]
  },
  {
   "cell_type": "markdown",
   "metadata": {},
   "source": [
    "## Convert non-numerical features to numerical/dates"
   ]
  },
  {
   "cell_type": "code",
   "execution_count": 81,
   "metadata": {
    "ExecuteTime": {
     "end_time": "2020-06-29T23:15:44.756073Z",
     "start_time": "2020-06-29T23:15:44.751465Z"
    },
    "scrolled": true
   },
   "outputs": [],
   "source": [
    "num_features = list(set(num_feature) - set(missing))\n",
    "num_features = list(set(num_features) - set(['earliestcrline', 'issued']))\n",
    "num_features += ['diff_crline_issue', 'Zip_Median_mean', 'Zip_Median_min', 'Zip_Median_max'\n",
    "                    ,'Zip_Mean_mean', 'Zip_Mean_min', 'Zip_Mean_max'\n",
    "                    ,'Zip_Pop_mean', 'Zip_Pop_min', 'Zip_Pop_max', '19_Unemploy', '18_Unemploy', '30_fixed_APR', '15_fixed_APR', 'ARM_APR']"
   ]
  },
  {
   "cell_type": "markdown",
   "metadata": {},
   "source": [
    "### Remove unneeded characters from numerical value features"
   ]
  },
  {
   "cell_type": "code",
   "execution_count": 82,
   "metadata": {
    "ExecuteTime": {
     "end_time": "2020-06-29T23:15:50.763146Z",
     "start_time": "2020-06-29T23:15:44.758355Z"
    }
   },
   "outputs": [],
   "source": [
    "feature_removeString = {'revolutil': ['%'], 'term': ['months'], 'emplength': ['<', '+', 'years', 'year', 'nan'], \\\n",
    "                       'intrate': ['%'], '30_fixed_APR': ['%'], '15_fixed_APR': ['%'], 'ARM_APR': ['%'],         \n",
    "                       }\n",
    "Loan_Modules.convert_categorical_numerical(df, feature_removeString)"
   ]
  },
  {
   "cell_type": "markdown",
   "metadata": {
    "ExecuteTime": {
     "end_time": "2020-06-22T01:20:17.524733Z",
     "start_time": "2020-06-22T01:20:17.437678Z"
    }
   },
   "source": [
    "### Fill NaN with Median for numeric values\n",
    "Most feature is right skewed so use Median instead Mean"
   ]
  },
  {
   "cell_type": "code",
   "execution_count": 83,
   "metadata": {
    "ExecuteTime": {
     "end_time": "2020-06-29T23:16:10.307384Z",
     "start_time": "2020-06-29T23:15:50.767180Z"
    },
    "scrolled": true
   },
   "outputs": [],
   "source": [
    "df.loc[:, num_features] = df[num_features].apply(lambda x: x.fillna(x.median()) if x.dtype.kind in 'biufc' else x)"
   ]
  },
  {
   "cell_type": "code",
   "execution_count": 85,
   "metadata": {
    "ExecuteTime": {
     "end_time": "2020-06-29T23:16:10.790399Z",
     "start_time": "2020-06-29T23:16:10.321839Z"
    }
   },
   "outputs": [
    {
     "data": {
      "text/html": [
       "<div>\n",
       "<style scoped>\n",
       "    .dataframe tbody tr th:only-of-type {\n",
       "        vertical-align: middle;\n",
       "    }\n",
       "\n",
       "    .dataframe tbody tr th {\n",
       "        vertical-align: top;\n",
       "    }\n",
       "\n",
       "    .dataframe thead th {\n",
       "        text-align: right;\n",
       "    }\n",
       "</style>\n",
       "<table border=\"1\" class=\"dataframe\">\n",
       "  <thead>\n",
       "    <tr style=\"text-align: right;\">\n",
       "      <th></th>\n",
       "      <th>inqlast6mths</th>\n",
       "      <th>mosinrcnttl</th>\n",
       "      <th>revolbal</th>\n",
       "      <th>numrevtlbalgt0</th>\n",
       "      <th>allutil</th>\n",
       "      <th>numbcsats</th>\n",
       "      <th>numiltl</th>\n",
       "      <th>totcurbal</th>\n",
       "      <th>emplength</th>\n",
       "      <th>mosinrcntrevtlop</th>\n",
       "      <th>...</th>\n",
       "      <th>Zip_Mean_min</th>\n",
       "      <th>Zip_Mean_max</th>\n",
       "      <th>Zip_Pop_mean</th>\n",
       "      <th>Zip_Pop_min</th>\n",
       "      <th>Zip_Pop_max</th>\n",
       "      <th>19_Unemploy</th>\n",
       "      <th>18_Unemploy</th>\n",
       "      <th>30_fixed_APR</th>\n",
       "      <th>15_fixed_APR</th>\n",
       "      <th>ARM_APR</th>\n",
       "    </tr>\n",
       "  </thead>\n",
       "  <tbody>\n",
       "    <tr>\n",
       "      <th>0</th>\n",
       "      <td>0.0</td>\n",
       "      <td>7.0</td>\n",
       "      <td>67035.0</td>\n",
       "      <td>6.0</td>\n",
       "      <td>78.0</td>\n",
       "      <td>5.0</td>\n",
       "      <td>7.0</td>\n",
       "      <td>271606.0</td>\n",
       "      <td>5</td>\n",
       "      <td>10.0</td>\n",
       "      <td>...</td>\n",
       "      <td>49482.0</td>\n",
       "      <td>112700.0</td>\n",
       "      <td>29381.333333</td>\n",
       "      <td>456.0</td>\n",
       "      <td>76615.0</td>\n",
       "      <td>4.3</td>\n",
       "      <td>4.0</td>\n",
       "      <td>4.39</td>\n",
       "      <td>3.91</td>\n",
       "      <td>4.87</td>\n",
       "    </tr>\n",
       "    <tr>\n",
       "      <th>1</th>\n",
       "      <td>0.0</td>\n",
       "      <td>7.0</td>\n",
       "      <td>2885.0</td>\n",
       "      <td>4.0</td>\n",
       "      <td>72.0</td>\n",
       "      <td>2.0</td>\n",
       "      <td>7.0</td>\n",
       "      <td>19021.0</td>\n",
       "      <td>3</td>\n",
       "      <td>7.0</td>\n",
       "      <td>...</td>\n",
       "      <td>40660.0</td>\n",
       "      <td>134286.0</td>\n",
       "      <td>36131.333333</td>\n",
       "      <td>342.0</td>\n",
       "      <td>80241.0</td>\n",
       "      <td>3.9</td>\n",
       "      <td>3.4</td>\n",
       "      <td>4.39</td>\n",
       "      <td>3.91</td>\n",
       "      <td>4.87</td>\n",
       "    </tr>\n",
       "    <tr>\n",
       "      <th>2</th>\n",
       "      <td>1.0</td>\n",
       "      <td>5.0</td>\n",
       "      <td>15299.0</td>\n",
       "      <td>5.0</td>\n",
       "      <td>89.0</td>\n",
       "      <td>4.0</td>\n",
       "      <td>36.0</td>\n",
       "      <td>124465.0</td>\n",
       "      <td>3</td>\n",
       "      <td>5.0</td>\n",
       "      <td>...</td>\n",
       "      <td>0.0</td>\n",
       "      <td>125882.0</td>\n",
       "      <td>10388.137255</td>\n",
       "      <td>18.0</td>\n",
       "      <td>44314.0</td>\n",
       "      <td>3.8</td>\n",
       "      <td>3.5</td>\n",
       "      <td>4.39</td>\n",
       "      <td>3.91</td>\n",
       "      <td>4.87</td>\n",
       "    </tr>\n",
       "    <tr>\n",
       "      <th>3</th>\n",
       "      <td>1.0</td>\n",
       "      <td>1.0</td>\n",
       "      <td>62675.0</td>\n",
       "      <td>10.0</td>\n",
       "      <td>76.0</td>\n",
       "      <td>8.0</td>\n",
       "      <td>14.0</td>\n",
       "      <td>230990.0</td>\n",
       "      <td>1</td>\n",
       "      <td>1.0</td>\n",
       "      <td>...</td>\n",
       "      <td>0.0</td>\n",
       "      <td>198977.0</td>\n",
       "      <td>35312.722222</td>\n",
       "      <td>550.0</td>\n",
       "      <td>75611.0</td>\n",
       "      <td>4.3</td>\n",
       "      <td>4.0</td>\n",
       "      <td>4.39</td>\n",
       "      <td>3.91</td>\n",
       "      <td>4.87</td>\n",
       "    </tr>\n",
       "    <tr>\n",
       "      <th>4</th>\n",
       "      <td>0.0</td>\n",
       "      <td>27.0</td>\n",
       "      <td>1719.0</td>\n",
       "      <td>4.0</td>\n",
       "      <td>69.0</td>\n",
       "      <td>4.0</td>\n",
       "      <td>0.0</td>\n",
       "      <td>1719.0</td>\n",
       "      <td>1</td>\n",
       "      <td>27.0</td>\n",
       "      <td>...</td>\n",
       "      <td>33975.0</td>\n",
       "      <td>140858.0</td>\n",
       "      <td>62714.333333</td>\n",
       "      <td>3040.0</td>\n",
       "      <td>106461.0</td>\n",
       "      <td>4.1</td>\n",
       "      <td>4.0</td>\n",
       "      <td>4.39</td>\n",
       "      <td>3.91</td>\n",
       "      <td>4.87</td>\n",
       "    </tr>\n",
       "  </tbody>\n",
       "</table>\n",
       "<p>5 rows × 91 columns</p>\n",
       "</div>"
      ],
      "text/plain": [
       "   inqlast6mths  mosinrcnttl  revolbal  numrevtlbalgt0  allutil  numbcsats  \\\n",
       "0           0.0          7.0   67035.0             6.0     78.0        5.0   \n",
       "1           0.0          7.0    2885.0             4.0     72.0        2.0   \n",
       "2           1.0          5.0   15299.0             5.0     89.0        4.0   \n",
       "3           1.0          1.0   62675.0            10.0     76.0        8.0   \n",
       "4           0.0         27.0    1719.0             4.0     69.0        4.0   \n",
       "\n",
       "   numiltl  totcurbal emplength  mosinrcntrevtlop  ...  Zip_Mean_min  \\\n",
       "0      7.0   271606.0         5              10.0  ...       49482.0   \n",
       "1      7.0    19021.0         3               7.0  ...       40660.0   \n",
       "2     36.0   124465.0         3               5.0  ...           0.0   \n",
       "3     14.0   230990.0         1               1.0  ...           0.0   \n",
       "4      0.0     1719.0         1              27.0  ...       33975.0   \n",
       "\n",
       "   Zip_Mean_max  Zip_Pop_mean Zip_Pop_min  Zip_Pop_max  19_Unemploy  \\\n",
       "0      112700.0  29381.333333       456.0      76615.0          4.3   \n",
       "1      134286.0  36131.333333       342.0      80241.0          3.9   \n",
       "2      125882.0  10388.137255        18.0      44314.0          3.8   \n",
       "3      198977.0  35312.722222       550.0      75611.0          4.3   \n",
       "4      140858.0  62714.333333      3040.0     106461.0          4.1   \n",
       "\n",
       "   18_Unemploy  30_fixed_APR  15_fixed_APR  ARM_APR  \n",
       "0          4.0          4.39          3.91     4.87  \n",
       "1          3.4          4.39          3.91     4.87  \n",
       "2          3.5          4.39          3.91     4.87  \n",
       "3          4.0          4.39          3.91     4.87  \n",
       "4          4.0          4.39          3.91     4.87  \n",
       "\n",
       "[5 rows x 91 columns]"
      ]
     },
     "execution_count": 85,
     "metadata": {},
     "output_type": "execute_result"
    }
   ],
   "source": [
    "df[num_features].head()"
   ]
  },
  {
   "cell_type": "code",
   "execution_count": 86,
   "metadata": {
    "ExecuteTime": {
     "end_time": "2020-06-29T23:16:14.061615Z",
     "start_time": "2020-06-29T23:16:10.792256Z"
    },
    "scrolled": true
   },
   "outputs": [],
   "source": [
    "df.loc[:, num_features] = df.loc[:, num_features].astype('float')"
   ]
  },
  {
   "cell_type": "code",
   "execution_count": 87,
   "metadata": {
    "ExecuteTime": {
     "end_time": "2020-06-29T23:16:14.897205Z",
     "start_time": "2020-06-29T23:16:14.063172Z"
    },
    "scrolled": true
   },
   "outputs": [],
   "source": [
    "# Convert emplength in test data to year instead of months\n",
    "df.loc[df['trainflag'] == 0 ,'emplength'] = df.loc[df['trainflag'] == 0 ,'emplength']/12"
   ]
  },
  {
   "cell_type": "markdown",
   "metadata": {},
   "source": [
    "## Check summary statistics of numeric features"
   ]
  },
  {
   "cell_type": "code",
   "execution_count": 88,
   "metadata": {
    "ExecuteTime": {
     "end_time": "2020-06-29T23:16:19.462513Z",
     "start_time": "2020-06-29T23:16:14.898803Z"
    },
    "scrolled": true
   },
   "outputs": [
    {
     "data": {
      "text/html": [
       "<div>\n",
       "<style scoped>\n",
       "    .dataframe tbody tr th:only-of-type {\n",
       "        vertical-align: middle;\n",
       "    }\n",
       "\n",
       "    .dataframe tbody tr th {\n",
       "        vertical-align: top;\n",
       "    }\n",
       "\n",
       "    .dataframe thead th {\n",
       "        text-align: right;\n",
       "    }\n",
       "</style>\n",
       "<table border=\"1\" class=\"dataframe\">\n",
       "  <thead>\n",
       "    <tr style=\"text-align: right;\">\n",
       "      <th></th>\n",
       "      <th>inqlast6mths</th>\n",
       "      <th>mosinrcnttl</th>\n",
       "      <th>revolbal</th>\n",
       "      <th>numrevtlbalgt0</th>\n",
       "      <th>allutil</th>\n",
       "      <th>numbcsats</th>\n",
       "      <th>numiltl</th>\n",
       "      <th>totcurbal</th>\n",
       "      <th>emplength</th>\n",
       "      <th>mosinrcntrevtlop</th>\n",
       "      <th>...</th>\n",
       "      <th>Zip_Mean_min</th>\n",
       "      <th>Zip_Mean_max</th>\n",
       "      <th>Zip_Pop_mean</th>\n",
       "      <th>Zip_Pop_min</th>\n",
       "      <th>Zip_Pop_max</th>\n",
       "      <th>19_Unemploy</th>\n",
       "      <th>18_Unemploy</th>\n",
       "      <th>30_fixed_APR</th>\n",
       "      <th>15_fixed_APR</th>\n",
       "      <th>ARM_APR</th>\n",
       "    </tr>\n",
       "  </thead>\n",
       "  <tbody>\n",
       "    <tr>\n",
       "      <th>count</th>\n",
       "      <td>973534.000000</td>\n",
       "      <td>973534.000000</td>\n",
       "      <td>9.735340e+05</td>\n",
       "      <td>973534.000000</td>\n",
       "      <td>973534.000000</td>\n",
       "      <td>973534.000000</td>\n",
       "      <td>973534.000000</td>\n",
       "      <td>9.735340e+05</td>\n",
       "      <td>973534.000000</td>\n",
       "      <td>973534.000000</td>\n",
       "      <td>...</td>\n",
       "      <td>973534.000000</td>\n",
       "      <td>973534.000000</td>\n",
       "      <td>973534.000000</td>\n",
       "      <td>973534.000000</td>\n",
       "      <td>973534.000000</td>\n",
       "      <td>973534.000000</td>\n",
       "      <td>973534.000000</td>\n",
       "      <td>59183.000000</td>\n",
       "      <td>59183.000000</td>\n",
       "      <td>59183.000000</td>\n",
       "    </tr>\n",
       "    <tr>\n",
       "      <th>mean</th>\n",
       "      <td>0.545430</td>\n",
       "      <td>7.860628</td>\n",
       "      <td>1.585863e+04</td>\n",
       "      <td>5.373162</td>\n",
       "      <td>57.239605</td>\n",
       "      <td>4.771062</td>\n",
       "      <td>8.629747</td>\n",
       "      <td>1.446532e+05</td>\n",
       "      <td>5.525260</td>\n",
       "      <td>13.571040</td>\n",
       "      <td>...</td>\n",
       "      <td>33447.531272</td>\n",
       "      <td>149850.508080</td>\n",
       "      <td>18580.957744</td>\n",
       "      <td>705.096274</td>\n",
       "      <td>57209.158205</td>\n",
       "      <td>3.924728</td>\n",
       "      <td>3.682317</td>\n",
       "      <td>4.280916</td>\n",
       "      <td>3.793928</td>\n",
       "      <td>4.673702</td>\n",
       "    </tr>\n",
       "    <tr>\n",
       "      <th>std</th>\n",
       "      <td>0.832524</td>\n",
       "      <td>8.626248</td>\n",
       "      <td>2.284943e+04</td>\n",
       "      <td>3.285212</td>\n",
       "      <td>21.049242</td>\n",
       "      <td>3.135925</td>\n",
       "      <td>7.521861</td>\n",
       "      <td>1.639819e+05</td>\n",
       "      <td>3.808377</td>\n",
       "      <td>17.041783</td>\n",
       "      <td>...</td>\n",
       "      <td>15162.074203</td>\n",
       "      <td>58363.466601</td>\n",
       "      <td>11188.104736</td>\n",
       "      <td>2330.029984</td>\n",
       "      <td>20178.464181</td>\n",
       "      <td>0.512903</td>\n",
       "      <td>0.550574</td>\n",
       "      <td>0.216163</td>\n",
       "      <td>0.216257</td>\n",
       "      <td>0.282183</td>\n",
       "    </tr>\n",
       "    <tr>\n",
       "      <th>min</th>\n",
       "      <td>0.000000</td>\n",
       "      <td>0.000000</td>\n",
       "      <td>0.000000e+00</td>\n",
       "      <td>0.000000</td>\n",
       "      <td>0.000000</td>\n",
       "      <td>0.000000</td>\n",
       "      <td>0.000000</td>\n",
       "      <td>0.000000e+00</td>\n",
       "      <td>0.000000</td>\n",
       "      <td>0.000000</td>\n",
       "      <td>...</td>\n",
       "      <td>0.000000</td>\n",
       "      <td>44241.000000</td>\n",
       "      <td>771.727273</td>\n",
       "      <td>1.000000</td>\n",
       "      <td>4098.000000</td>\n",
       "      <td>2.500000</td>\n",
       "      <td>2.400000</td>\n",
       "      <td>3.950000</td>\n",
       "      <td>3.490000</td>\n",
       "      <td>4.220000</td>\n",
       "    </tr>\n",
       "    <tr>\n",
       "      <th>25%</th>\n",
       "      <td>0.000000</td>\n",
       "      <td>3.000000</td>\n",
       "      <td>5.379000e+03</td>\n",
       "      <td>3.000000</td>\n",
       "      <td>43.000000</td>\n",
       "      <td>3.000000</td>\n",
       "      <td>4.000000</td>\n",
       "      <td>2.893000e+04</td>\n",
       "      <td>2.000000</td>\n",
       "      <td>4.000000</td>\n",
       "      <td>...</td>\n",
       "      <td>25986.000000</td>\n",
       "      <td>111029.000000</td>\n",
       "      <td>10023.166667</td>\n",
       "      <td>38.000000</td>\n",
       "      <td>43129.000000</td>\n",
       "      <td>3.600000</td>\n",
       "      <td>3.300000</td>\n",
       "      <td>4.060000</td>\n",
       "      <td>3.560000</td>\n",
       "      <td>4.410000</td>\n",
       "    </tr>\n",
       "    <tr>\n",
       "      <th>50%</th>\n",
       "      <td>0.000000</td>\n",
       "      <td>5.000000</td>\n",
       "      <td>1.043300e+04</td>\n",
       "      <td>5.000000</td>\n",
       "      <td>58.000000</td>\n",
       "      <td>4.000000</td>\n",
       "      <td>7.000000</td>\n",
       "      <td>8.016150e+04</td>\n",
       "      <td>5.000000</td>\n",
       "      <td>8.000000</td>\n",
       "      <td>...</td>\n",
       "      <td>34462.000000</td>\n",
       "      <td>137076.000000</td>\n",
       "      <td>17213.055556</td>\n",
       "      <td>92.000000</td>\n",
       "      <td>54926.000000</td>\n",
       "      <td>4.100000</td>\n",
       "      <td>3.700000</td>\n",
       "      <td>4.330000</td>\n",
       "      <td>3.860000</td>\n",
       "      <td>4.810000</td>\n",
       "    </tr>\n",
       "    <tr>\n",
       "      <th>75%</th>\n",
       "      <td>1.000000</td>\n",
       "      <td>10.000000</td>\n",
       "      <td>1.891100e+04</td>\n",
       "      <td>7.000000</td>\n",
       "      <td>72.000000</td>\n",
       "      <td>6.000000</td>\n",
       "      <td>11.000000</td>\n",
       "      <td>2.169088e+05</td>\n",
       "      <td>10.000000</td>\n",
       "      <td>17.000000</td>\n",
       "      <td>...</td>\n",
       "      <td>41865.000000</td>\n",
       "      <td>172658.000000</td>\n",
       "      <td>24793.105263</td>\n",
       "      <td>295.000000</td>\n",
       "      <td>67602.000000</td>\n",
       "      <td>4.300000</td>\n",
       "      <td>4.000000</td>\n",
       "      <td>4.490000</td>\n",
       "      <td>4.010000</td>\n",
       "      <td>4.940000</td>\n",
       "    </tr>\n",
       "    <tr>\n",
       "      <th>max</th>\n",
       "      <td>5.000000</td>\n",
       "      <td>382.000000</td>\n",
       "      <td>1.698749e+06</td>\n",
       "      <td>65.000000</td>\n",
       "      <td>204.000000</td>\n",
       "      <td>61.000000</td>\n",
       "      <td>159.000000</td>\n",
       "      <td>8.524709e+06</td>\n",
       "      <td>33.000000</td>\n",
       "      <td>438.000000</td>\n",
       "      <td>...</td>\n",
       "      <td>146355.000000</td>\n",
       "      <td>361842.000000</td>\n",
       "      <td>62714.333333</td>\n",
       "      <td>30322.000000</td>\n",
       "      <td>113916.000000</td>\n",
       "      <td>6.500000</td>\n",
       "      <td>6.100000</td>\n",
       "      <td>4.590000</td>\n",
       "      <td>4.090000</td>\n",
       "      <td>4.990000</td>\n",
       "    </tr>\n",
       "  </tbody>\n",
       "</table>\n",
       "<p>8 rows × 91 columns</p>\n",
       "</div>"
      ],
      "text/plain": [
       "        inqlast6mths    mosinrcnttl      revolbal  numrevtlbalgt0  \\\n",
       "count  973534.000000  973534.000000  9.735340e+05   973534.000000   \n",
       "mean        0.545430       7.860628  1.585863e+04        5.373162   \n",
       "std         0.832524       8.626248  2.284943e+04        3.285212   \n",
       "min         0.000000       0.000000  0.000000e+00        0.000000   \n",
       "25%         0.000000       3.000000  5.379000e+03        3.000000   \n",
       "50%         0.000000       5.000000  1.043300e+04        5.000000   \n",
       "75%         1.000000      10.000000  1.891100e+04        7.000000   \n",
       "max         5.000000     382.000000  1.698749e+06       65.000000   \n",
       "\n",
       "             allutil      numbcsats        numiltl     totcurbal  \\\n",
       "count  973534.000000  973534.000000  973534.000000  9.735340e+05   \n",
       "mean       57.239605       4.771062       8.629747  1.446532e+05   \n",
       "std        21.049242       3.135925       7.521861  1.639819e+05   \n",
       "min         0.000000       0.000000       0.000000  0.000000e+00   \n",
       "25%        43.000000       3.000000       4.000000  2.893000e+04   \n",
       "50%        58.000000       4.000000       7.000000  8.016150e+04   \n",
       "75%        72.000000       6.000000      11.000000  2.169088e+05   \n",
       "max       204.000000      61.000000     159.000000  8.524709e+06   \n",
       "\n",
       "           emplength  mosinrcntrevtlop  ...   Zip_Mean_min   Zip_Mean_max  \\\n",
       "count  973534.000000     973534.000000  ...  973534.000000  973534.000000   \n",
       "mean        5.525260         13.571040  ...   33447.531272  149850.508080   \n",
       "std         3.808377         17.041783  ...   15162.074203   58363.466601   \n",
       "min         0.000000          0.000000  ...       0.000000   44241.000000   \n",
       "25%         2.000000          4.000000  ...   25986.000000  111029.000000   \n",
       "50%         5.000000          8.000000  ...   34462.000000  137076.000000   \n",
       "75%        10.000000         17.000000  ...   41865.000000  172658.000000   \n",
       "max        33.000000        438.000000  ...  146355.000000  361842.000000   \n",
       "\n",
       "        Zip_Pop_mean    Zip_Pop_min    Zip_Pop_max    19_Unemploy  \\\n",
       "count  973534.000000  973534.000000  973534.000000  973534.000000   \n",
       "mean    18580.957744     705.096274   57209.158205       3.924728   \n",
       "std     11188.104736    2330.029984   20178.464181       0.512903   \n",
       "min       771.727273       1.000000    4098.000000       2.500000   \n",
       "25%     10023.166667      38.000000   43129.000000       3.600000   \n",
       "50%     17213.055556      92.000000   54926.000000       4.100000   \n",
       "75%     24793.105263     295.000000   67602.000000       4.300000   \n",
       "max     62714.333333   30322.000000  113916.000000       6.500000   \n",
       "\n",
       "         18_Unemploy  30_fixed_APR  15_fixed_APR       ARM_APR  \n",
       "count  973534.000000  59183.000000  59183.000000  59183.000000  \n",
       "mean        3.682317      4.280916      3.793928      4.673702  \n",
       "std         0.550574      0.216163      0.216257      0.282183  \n",
       "min         2.400000      3.950000      3.490000      4.220000  \n",
       "25%         3.300000      4.060000      3.560000      4.410000  \n",
       "50%         3.700000      4.330000      3.860000      4.810000  \n",
       "75%         4.000000      4.490000      4.010000      4.940000  \n",
       "max         6.100000      4.590000      4.090000      4.990000  \n",
       "\n",
       "[8 rows x 91 columns]"
      ]
     },
     "execution_count": 88,
     "metadata": {},
     "output_type": "execute_result"
    }
   ],
   "source": [
    "df[num_features].describe()"
   ]
  },
  {
   "cell_type": "markdown",
   "metadata": {},
   "source": [
    "### Remove features of low standard deviations"
   ]
  },
  {
   "cell_type": "code",
   "execution_count": 89,
   "metadata": {
    "ExecuteTime": {
     "end_time": "2020-06-29T23:16:19.467049Z",
     "start_time": "2020-06-29T23:16:19.463909Z"
    }
   },
   "outputs": [],
   "source": [
    "# remove 'accnowdelinq', 'collections12mthsexmed', \\\n",
    "# 'chargeoffwithin12mths', 'taxliens', 'numtl120dpd2m', and 'numtl90gdpd24m' becaue those features\n",
    "# have extremely small standard deviation - not useful features\n",
    "\n",
    "num_features = list(set(num_features) - set(['accnowdelinq', 'collections12mthsexmed', \\\n",
    "                            'chargeoffwithin12mths', 'taxliens', 'numtl120dpd2m', 'numtl90gdpd24m', 'numtl30dpd']))"
   ]
  },
  {
   "cell_type": "markdown",
   "metadata": {},
   "source": [
    "## Plot numeric features"
   ]
  },
  {
   "cell_type": "code",
   "execution_count": 90,
   "metadata": {
    "ExecuteTime": {
     "end_time": "2020-06-29T23:16:25.784454Z",
     "start_time": "2020-06-29T23:16:19.468720Z"
    },
    "scrolled": true
   },
   "outputs": [
    {
     "name": "stdout",
     "output_type": "stream",
     "text": [
      "inqlast6mths\n"
     ]
    },
    {
     "data": {
      "image/png": "[encoded data removed]",
      "text/plain": [
       "<Figure size 432x288 with 1 Axes>"
      ]
     },
     "metadata": {
      "needs_background": "light"
     },
     "output_type": "display_data"
    },
    {
     "name": "stdout",
     "output_type": "stream",
     "text": [
      "Zip_Pop_max\n"
     ]
    },
    {
     "data": {
      "image/png": "[encoded data removed]",
      "text/plain": [
       "<Figure size 432x288 with 1 Axes>"
      ]
     },
     "metadata": {
      "needs_background": "light"
     },
     "output_type": "display_data"
    },
    {
     "name": "stdout",
     "output_type": "stream",
     "text": [
      "mosinrcnttl\n"
     ]
    },
    {
     "data": {
      "image/png": "[encoded data removed]",
      "text/plain": [
       "<Figure size 432x288 with 1 Axes>"
      ]
     },
     "metadata": {
      "needs_background": "light"
     },
     "output_type": "display_data"
    },
    {
     "name": "stdout",
     "output_type": "stream",
     "text": [
      "revolbal\n"
     ]
    },
    {
     "data": {
      "image/png": "[encoded data removed]",
      "text/plain": [
       "<Figure size 432x288 with 1 Axes>"
      ]
     },
     "metadata": {
      "needs_background": "light"
     },
     "output_type": "display_data"
    },
    {
     "name": "stdout",
     "output_type": "stream",
     "text": [
      "numrevtlbalgt0\n"
     ]
    },
    {
     "data": {
      "image/png": "[encoded data removed]",
      "text/plain": [
       "<Figure size 432x288 with 1 Axes>"
      ]
     },
     "metadata": {
      "needs_background": "light"
     },
     "output_type": "display_data"
    },
    {
     "name": "stdout",
     "output_type": "stream",
     "text": [
      "allutil\n"
     ]
    },
    {
     "data": {
      "image/png": "[encoded data removed]",
      "text/plain": [
       "<Figure size 432x288 with 1 Axes>"
      ]
     },
     "metadata": {
      "needs_background": "light"
     },
     "output_type": "display_data"
    },
    {
     "name": "stdout",
     "output_type": "stream",
     "text": [
      "numiltl\n"
     ]
    },
    {
     "data": {
      "image/png": "[encoded data removed]",
      "text/plain": [
       "<Figure size 432x288 with 1 Axes>"
      ]
     },
     "metadata": {
      "needs_background": "light"
     },
     "output_type": "display_data"
    },
    {
     "name": "stdout",
     "output_type": "stream",
     "text": [
      "numbcsats\n"
     ]
    },
    {
     "data": {
      "image/png": "[encoded data removed]",
      "text/plain": [
       "<Figure size 432x288 with 1 Axes>"
      ]
     },
     "metadata": {
      "needs_background": "light"
     },
     "output_type": "display_data"
    },
    {
     "name": "stdout",
     "output_type": "stream",
     "text": [
      "totcurbal\n"
     ]
    },
    {
     "data": {
      "image/png": "[encoded data removed]",
      "text/plain": [
       "<Figure size 432x288 with 1 Axes>"
      ]
     },
     "metadata": {
      "needs_background": "light"
     },
     "output_type": "display_data"
    },
    {
     "name": "stdout",
     "output_type": "stream",
     "text": [
      "emplength\n"
     ]
    },
    {
     "data": {
      "image/png": "[encoded data removed]",
      "text/plain": [
       "<Figure size 432x288 with 1 Axes>"
      ]
     },
     "metadata": {
      "needs_background": "light"
     },
     "output_type": "display_data"
    },
    {
     "name": "stdout",
     "output_type": "stream",
     "text": [
      "mosinrcntrevtlop\n"
     ]
    },
    {
     "data": {
      "image/png": "[encoded data removed]",
      "text/plain": [
       "<Figure size 432x288 with 1 Axes>"
      ]
     },
     "metadata": {
      "needs_background": "light"
     },
     "output_type": "display_data"
    },
    {
     "name": "stdout",
     "output_type": "stream",
     "text": [
      "Zip_Pop_min\n"
     ]
    },
    {
     "data": {
      "image/png": "[encoded data removed]",
      "text/plain": [
       "<Figure size 432x288 with 1 Axes>"
      ]
     },
     "metadata": {
      "needs_background": "light"
     },
     "output_type": "display_data"
    },
    {
     "name": "stdout",
     "output_type": "stream",
     "text": [
      "zip_freq\n"
     ]
    },
    {
     "data": {
      "image/png": "[encoded data removed]",
      "text/plain": [
       "<Figure size 432x288 with 1 Axes>"
      ]
     },
     "metadata": {
      "needs_background": "light"
     },
     "output_type": "display_data"
    },
    {
     "name": "stdout",
     "output_type": "stream",
     "text": [
      "loanstatus\n"
     ]
    },
    {
     "data": {
      "image/png": "[encoded data removed]",
      "text/plain": [
       "<Figure size 432x288 with 1 Axes>"
      ]
     },
     "metadata": {
      "needs_background": "light"
     },
     "output_type": "display_data"
    },
    {
     "name": "stdout",
     "output_type": "stream",
     "text": [
      "revolutil\n"
     ]
    },
    {
     "name": "stderr",
     "output_type": "stream",
     "text": [
      "/home/yingjie/anaconda3/lib/python3.6/site-packages/numpy/core/_methods.py:26: RuntimeWarning: invalid value encountered in reduce\n",
      "  return umr_maximum(a, axis, None, out, keepdims)\n",
      "/home/yingjie/anaconda3/lib/python3.6/site-packages/numpy/core/_methods.py:29: RuntimeWarning: invalid value encountered in reduce\n",
      "  return umr_minimum(a, axis, None, out, keepdims)\n"
     ]
    },
    {
     "ename": "ValueError",
     "evalue": "cannot convert float NaN to integer",
     "output_type": "error",
     "traceback": [
      "\u001b[0;31m---------------------------------------------------------------------------\u001b[0m",
      "\u001b[0;31mValueError\u001b[0m                                Traceback (most recent call last)",
      "\u001b[0;32m<ipython-input-90-68f739a1fba5>\u001b[0m in \u001b[0;36m<module>\u001b[0;34m\u001b[0m\n\u001b[1;32m      1\u001b[0m \u001b[0;32mfor\u001b[0m \u001b[0mnum_feature\u001b[0m \u001b[0;32min\u001b[0m \u001b[0mnum_features\u001b[0m\u001b[0;34m:\u001b[0m\u001b[0;34m\u001b[0m\u001b[0;34m\u001b[0m\u001b[0m\n\u001b[1;32m      2\u001b[0m     \u001b[0mprint\u001b[0m\u001b[0;34m(\u001b[0m\u001b[0mnum_feature\u001b[0m\u001b[0;34m)\u001b[0m\u001b[0;34m\u001b[0m\u001b[0;34m\u001b[0m\u001b[0m\n\u001b[0;32m----> 3\u001b[0;31m     \u001b[0msns\u001b[0m\u001b[0;34m.\u001b[0m\u001b[0mdistplot\u001b[0m\u001b[0;34m(\u001b[0m\u001b[0mdf\u001b[0m\u001b[0;34m[\u001b[0m\u001b[0mnum_feature\u001b[0m\u001b[0;34m]\u001b[0m\u001b[0;34m,\u001b[0m \u001b[0mcolor\u001b[0m\u001b[0;34m=\u001b[0m\u001b[0;34m'#86bf91'\u001b[0m\u001b[0;34m)\u001b[0m\u001b[0;34m\u001b[0m\u001b[0;34m\u001b[0m\u001b[0m\n\u001b[0m\u001b[1;32m      4\u001b[0m     \u001b[0mplt\u001b[0m\u001b[0;34m.\u001b[0m\u001b[0mtitle\u001b[0m\u001b[0;34m(\u001b[0m\u001b[0;34m'Distribution of {}'\u001b[0m\u001b[0;34m.\u001b[0m\u001b[0mformat\u001b[0m\u001b[0;34m(\u001b[0m\u001b[0mnum_feature\u001b[0m\u001b[0;34m)\u001b[0m\u001b[0;34m)\u001b[0m\u001b[0;34m\u001b[0m\u001b[0;34m\u001b[0m\u001b[0m\n\u001b[1;32m      5\u001b[0m     \u001b[0mplt\u001b[0m\u001b[0;34m.\u001b[0m\u001b[0mshow\u001b[0m\u001b[0;34m(\u001b[0m\u001b[0;34m)\u001b[0m\u001b[0;34m\u001b[0m\u001b[0;34m\u001b[0m\u001b[0m\n",
      "\u001b[0;32m~/anaconda3/lib/python3.6/site-packages/seaborn/distributions.py\u001b[0m in \u001b[0;36mdistplot\u001b[0;34m(a, bins, hist, kde, rug, fit, hist_kws, kde_kws, rug_kws, fit_kws, color, vertical, norm_hist, axlabel, label, ax)\u001b[0m\n\u001b[1;32m    213\u001b[0m     \u001b[0;32mif\u001b[0m \u001b[0mhist\u001b[0m\u001b[0;34m:\u001b[0m\u001b[0;34m\u001b[0m\u001b[0;34m\u001b[0m\u001b[0m\n\u001b[1;32m    214\u001b[0m         \u001b[0;32mif\u001b[0m \u001b[0mbins\u001b[0m \u001b[0;32mis\u001b[0m \u001b[0;32mNone\u001b[0m\u001b[0;34m:\u001b[0m\u001b[0;34m\u001b[0m\u001b[0;34m\u001b[0m\u001b[0m\n\u001b[0;32m--> 215\u001b[0;31m             \u001b[0mbins\u001b[0m \u001b[0;34m=\u001b[0m \u001b[0mmin\u001b[0m\u001b[0;34m(\u001b[0m\u001b[0m_freedman_diaconis_bins\u001b[0m\u001b[0;34m(\u001b[0m\u001b[0ma\u001b[0m\u001b[0;34m)\u001b[0m\u001b[0;34m,\u001b[0m \u001b[0;36m50\u001b[0m\u001b[0;34m)\u001b[0m\u001b[0;34m\u001b[0m\u001b[0;34m\u001b[0m\u001b[0m\n\u001b[0m\u001b[1;32m    216\u001b[0m         \u001b[0mhist_kws\u001b[0m\u001b[0;34m.\u001b[0m\u001b[0msetdefault\u001b[0m\u001b[0;34m(\u001b[0m\u001b[0;34m\"alpha\"\u001b[0m\u001b[0;34m,\u001b[0m \u001b[0;36m0.4\u001b[0m\u001b[0;34m)\u001b[0m\u001b[0;34m\u001b[0m\u001b[0;34m\u001b[0m\u001b[0m\n\u001b[1;32m    217\u001b[0m         \u001b[0;32mif\u001b[0m \u001b[0mLooseVersion\u001b[0m\u001b[0;34m(\u001b[0m\u001b[0mmpl\u001b[0m\u001b[0;34m.\u001b[0m\u001b[0m__version__\u001b[0m\u001b[0;34m)\u001b[0m \u001b[0;34m<\u001b[0m \u001b[0mLooseVersion\u001b[0m\u001b[0;34m(\u001b[0m\u001b[0;34m\"2.2\"\u001b[0m\u001b[0;34m)\u001b[0m\u001b[0;34m:\u001b[0m\u001b[0;34m\u001b[0m\u001b[0;34m\u001b[0m\u001b[0m\n",
      "\u001b[0;32m~/anaconda3/lib/python3.6/site-packages/seaborn/distributions.py\u001b[0m in \u001b[0;36m_freedman_diaconis_bins\u001b[0;34m(a)\u001b[0m\n\u001b[1;32m     37\u001b[0m         \u001b[0;32mreturn\u001b[0m \u001b[0mint\u001b[0m\u001b[0;34m(\u001b[0m\u001b[0mnp\u001b[0m\u001b[0;34m.\u001b[0m\u001b[0msqrt\u001b[0m\u001b[0;34m(\u001b[0m\u001b[0ma\u001b[0m\u001b[0;34m.\u001b[0m\u001b[0msize\u001b[0m\u001b[0;34m)\u001b[0m\u001b[0;34m)\u001b[0m\u001b[0;34m\u001b[0m\u001b[0;34m\u001b[0m\u001b[0m\n\u001b[1;32m     38\u001b[0m     \u001b[0;32melse\u001b[0m\u001b[0;34m:\u001b[0m\u001b[0;34m\u001b[0m\u001b[0;34m\u001b[0m\u001b[0m\n\u001b[0;32m---> 39\u001b[0;31m         \u001b[0;32mreturn\u001b[0m \u001b[0mint\u001b[0m\u001b[0;34m(\u001b[0m\u001b[0mnp\u001b[0m\u001b[0;34m.\u001b[0m\u001b[0mceil\u001b[0m\u001b[0;34m(\u001b[0m\u001b[0;34m(\u001b[0m\u001b[0ma\u001b[0m\u001b[0;34m.\u001b[0m\u001b[0mmax\u001b[0m\u001b[0;34m(\u001b[0m\u001b[0;34m)\u001b[0m \u001b[0;34m-\u001b[0m \u001b[0ma\u001b[0m\u001b[0;34m.\u001b[0m\u001b[0mmin\u001b[0m\u001b[0;34m(\u001b[0m\u001b[0;34m)\u001b[0m\u001b[0;34m)\u001b[0m \u001b[0;34m/\u001b[0m \u001b[0mh\u001b[0m\u001b[0;34m)\u001b[0m\u001b[0;34m)\u001b[0m\u001b[0;34m\u001b[0m\u001b[0;34m\u001b[0m\u001b[0m\n\u001b[0m\u001b[1;32m     40\u001b[0m \u001b[0;34m\u001b[0m\u001b[0m\n\u001b[1;32m     41\u001b[0m \u001b[0;34m\u001b[0m\u001b[0m\n",
      "\u001b[0;31mValueError\u001b[0m: cannot convert float NaN to integer"
     ]
    },
    {
     "data": {
      "image/png": "[encoded data removed]",
      "text/plain": [
       "<Figure size 432x288 with 1 Axes>"
      ]
     },
     "metadata": {
      "needs_background": "light"
     },
     "output_type": "display_data"
    }
   ],
   "source": [
    "for num_feature in num_features:\n",
    "    print(num_feature)\n",
    "    sns.distplot(df[num_feature], color='#86bf91')\n",
    "    plt.title('Distribution of {}'.format(num_feature))\n",
    "    plt.show()"
   ]
  },
  {
   "cell_type": "markdown",
   "metadata": {
    "ExecuteTime": {
     "end_time": "2020-06-21T23:53:29.405310Z",
     "start_time": "2020-06-21T23:53:26.855Z"
    },
    "scrolled": true
   },
   "source": [
    "- Most of the features are right-skewed <br>\n",
    "- No need to perform further processing here (e.g. standardization) because XGBoost will be used"
   ]
  },
  {
   "cell_type": "markdown",
   "metadata": {},
   "source": [
    "## Plot numeric features correlations "
   ]
  },
  {
   "cell_type": "code",
   "execution_count": 91,
   "metadata": {
    "ExecuteTime": {
     "end_time": "2020-06-29T23:21:23.439778Z",
     "start_time": "2020-06-29T23:21:07.306740Z"
    },
    "scrolled": true
   },
   "outputs": [
    {
     "data": {
      "image/png": "[encoded data removed]",
      "text/plain": [
       "<Figure size 1584x1440 with 2 Axes>"
      ]
     },
     "metadata": {},
     "output_type": "display_data"
    }
   ],
   "source": [
    "sns.set(font_scale= 1.1)\n",
    "# Compute the correlation matrix\n",
    "corr = df[num_features].corr()\n",
    "\n",
    "# Generate a mask for the upper triangle\n",
    "mask = np.triu(np.ones_like(corr, dtype=np.bool))\n",
    "\n",
    "# Set up the matplotlib figure\n",
    "f, ax = plt.subplots(figsize=(22, 20))\n",
    "\n",
    "# Generate a custom diverging colormap\n",
    "cmap = sns.diverging_palette(220, 10, as_cmap=True)\n",
    "\n",
    "# Draw the heatmap with the mask and correct aspect ratio\n",
    "sns.heatmap(corr, mask=mask, cmap=cmap,center=0, fmt='.1f', vmin=-1, vmax=1,\n",
    "            square=True, linewidths=1, cbar_kws={\"shrink\": .3})\n",
    "plt.show()"
   ]
  },
  {
   "cell_type": "markdown",
   "metadata": {},
   "source": [
    "# Save dataframe"
   ]
  },
  {
   "cell_type": "code",
   "execution_count": 92,
   "metadata": {
    "ExecuteTime": {
     "end_time": "2020-06-29T23:21:29.822407Z",
     "start_time": "2020-06-29T23:21:29.416345Z"
    }
   },
   "outputs": [],
   "source": [
    "processed_df = df[ob_feature_list_1+num_features+['issued', 'trainflag']]"
   ]
  },
  {
   "cell_type": "code",
   "execution_count": 93,
   "metadata": {
    "ExecuteTime": {
     "end_time": "2020-06-29T23:22:49.285278Z",
     "start_time": "2020-06-29T23:21:32.560452Z"
    }
   },
   "outputs": [],
   "source": [
    "processed_df.to_csv('processed_loan_data_v3.csv')"
   ]
  },
  {
   "cell_type": "markdown",
   "metadata": {},
   "source": [
    "### loanstatus\n",
    "Unbalanced dataset <br>\n",
    "We can <br>\n",
    "1) Undersampling 'Fully Paid' <br>\n",
    "2) Oversampling 'Charged Off' <br>\n",
    "3) SMOTE\n",
    "\n",
    "or consider **boosting** model"
   ]
  },
  {
   "cell_type": "code",
   "execution_count": null,
   "metadata": {
    "ExecuteTime": {
     "end_time": "2020-06-29T17:17:22.137728Z",
     "start_time": "2020-06-29T17:17:21.871986Z"
    }
   },
   "outputs": [],
   "source": [
    "Loan_Modules.draw_hist_cat(df = processed_df, arr = 'loanstatus')"
   ]
  },
  {
   "cell_type": "markdown",
   "metadata": {},
   "source": [
    "## Visualize interactions between predictors (X) and response variable (loanstatus)"
   ]
  },
  {
   "cell_type": "code",
   "execution_count": null,
   "metadata": {
    "ExecuteTime": {
     "end_time": "2020-06-29T17:17:54.837280Z",
     "start_time": "2020-06-29T17:17:54.825476Z"
    }
   },
   "outputs": [],
   "source": [
    "dummy_list = ['applicationtype', 'verificationstatus', 'homeownership', 'grade',\n",
    "               'initialliststatus', 'purpose']\n",
    "n = len(dummy_list)\n",
    "print('{} dummy variables'.format(n))"
   ]
  },
  {
   "cell_type": "code",
   "execution_count": null,
   "metadata": {
    "ExecuteTime": {
     "end_time": "2020-06-29T17:20:43.537267Z",
     "start_time": "2020-06-29T17:20:38.290022Z"
    },
    "scrolled": false
   },
   "outputs": [],
   "source": [
    "f, axes = plt.subplots(2, 3, figsize=(30, 20), sharex=False)\n",
    "for i, f in enumerate(dummy_list):\n",
    "    sns.set(font_scale=2)\n",
    "    sns.barplot(x=f, y='loanstatus', data=processed_df, ax=axes[i//3, i%3])\n",
    "plt.tight_layout()"
   ]
  },
  {
   "cell_type": "markdown",
   "metadata": {
    "ExecuteTime": {
     "end_time": "2020-05-15T01:23:53.239038Z",
     "start_time": "2020-05-15T01:23:51.214313Z"
    }
   },
   "source": [
    "- Grade/Subgrade - **higher** default rate <br>\n",
    "- Initailliststatus - no obvious difference <br>\n",
    "- Purpose - debt_consolidation has **higher** default rate <br>\n",
    "- Verification - Verified has **higher** default rate\n",
    "- Homeownership - Mortgate has **lower** default rate \n",
    "- Applicationtype - Joint App has **higher** default rate <br>\n",
    "- Lower Emplength - **higher** the default rate <br>\n",
    "- Source Verified - **higher** default rate <br>"
   ]
  },
  {
   "cell_type": "code",
   "execution_count": null,
   "metadata": {
    "ExecuteTime": {
     "end_time": "2020-06-29T17:16:23.040199Z",
     "start_time": "2020-06-29T17:16:16.478Z"
    },
    "scrolled": true
   },
   "outputs": [],
   "source": [
    "processed_df.head()"
   ]
  },
  {
   "cell_type": "code",
   "execution_count": null,
   "metadata": {
    "ExecuteTime": {
     "end_time": "2020-06-29T17:16:23.041387Z",
     "start_time": "2020-06-29T17:16:16.482Z"
    },
    "scrolled": true
   },
   "outputs": [],
   "source": [
    "processed_df['loanstatus']"
   ]
  },
  {
   "cell_type": "code",
   "execution_count": null,
   "metadata": {
    "ExecuteTime": {
     "end_time": "2020-06-29T17:16:23.043918Z",
     "start_time": "2020-06-29T17:16:16.487Z"
    },
    "scrolled": true
   },
   "outputs": [],
   "source": [
    "continuous_list = list(set(processed_df.columns.tolist())-set(dummy_list)-set(['loanstatus']))\n",
    "n = len(continuous_list)\n",
    "print('{} continuous variables'.format(n))            "
   ]
  },
  {
   "cell_type": "code",
   "execution_count": null,
   "metadata": {
    "ExecuteTime": {
     "end_time": "2020-06-29T17:16:23.045338Z",
     "start_time": "2020-06-29T17:16:16.490Z"
    }
   },
   "outputs": [],
   "source": [
    "continuous_list = ['avgcurbal', 'dti', 'ficorangelow', 'ilutil', 'inqfi', 'installment', 'intrate', 'maxbalbc'\n",
    "                   , 'mosinoldilacct', 'mosinoldrevtlop', 'mthssincercntil', 'mthssincerecentbc'\n",
    "                   , 'mthssincerecentinq', 'numrevtlbalgt0', 'openacc6m', 'openactil', 'revolutil', 'totalrevhilim']\n",
    "n = len(continuous_list)\n",
    "print('{} continuous variables'.format(n))"
   ]
  },
  {
   "cell_type": "code",
   "execution_count": null,
   "metadata": {
    "ExecuteTime": {
     "end_time": "2020-06-29T17:16:23.047835Z",
     "start_time": "2020-06-29T17:16:16.498Z"
    },
    "scrolled": false
   },
   "outputs": [],
   "source": [
    "f, axes = plt.subplots(6, 3, figsize=(100, 100), sharex=False)\n",
    "fs = 50\n",
    "x = range(5)\n",
    "labels = ['20%tile', '40%tile', '60%tile', '80%tile', '100%tile']\n",
    "for i, f in enumerate(continuous_list):\n",
    "    Loan_Modules.countinuous_variable_plot(processed_df, f, i, fs)\n",
    "    ax = axes[i//3, i%3]\n",
    "    ax.set_xlabel(\"%s percentile\" % f , fontsize = fs)\n",
    "    ax.set_ylabel('Default Rate', fontsize = fs)\n",
    "    plt.xticks(x, labels, rotation='0', fontsize = fs)\n",
    "    sns.despine()\n",
    "    ax.set_title(\"Loan Performance with respect to %s\" % f,fontsize = fs)\n",
    "plt.tight_layout()"
   ]
  },
  {
   "cell_type": "markdown",
   "metadata": {},
   "source": [
    "**High default rate** <br>\n",
    "\n",
    "- higher dti <br>\n",
    "- higher installment <br>\n",
    "- higher intrate <br>\n",
    "- higher mthssincercntil <br>\n",
    "- higher numrevtlbalgt0 <br>\n",
    "- higher revolutil <br>\n",
    "<br>\n",
    "- lower avgcurbal <br>\n",
    "- lower ficorangelow <br>\n",
    "- lower mosinoldilacct <br>\n",
    "- lower mosinoldrevtlop <br>\n",
    "- lower mthssincelastmajorderog <br>\n",
    "- lower mthssincerecentinq <br>\n",
    "- lower totalrevhilim <br>\n",
    "\n",
    "**No obvious trend** <br> \n",
    "- ilutil, inqfi, maxbalbc, mthssincerecentbc, mthssincerecentinq, openacc6m, openactil, revolutil, totalrevhilim"
   ]
  }
 ],
 "metadata": {
  "anaconda-cloud": {},
  "kernelspec": {
   "display_name": "Python 2",
   "language": "python",
   "name": "python2"
  },
  "language_info": {
   "codemirror_mode": {
    "name": "ipython",
    "version": 3
   },
   "file_extension": ".py",
   "mimetype": "text/x-python",
   "name": "python",
   "nbconvert_exporter": "python",
   "pygments_lexer": "ipython3",
   "version": "3.6.9"
  },
  "toc": {
   "base_numbering": 1,
   "nav_menu": {},
   "number_sections": true,
   "sideBar": true,
   "skip_h1_title": false,
   "title_cell": "Table of Contents",
   "title_sidebar": "Contents",
   "toc_cell": false,
   "toc_position": {},
   "toc_section_display": true,
   "toc_window_display": false
  }
 },
 "nbformat": 4,
 "nbformat_minor": 1
}
